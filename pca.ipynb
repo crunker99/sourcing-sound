{
 "cells": [
  {
   "cell_type": "code",
   "execution_count": 150,
   "metadata": {},
   "outputs": [],
   "source": [
    "import os\n",
    "from tqdm.notebook import tqdm\n",
    "import pandas as pd\n",
    "import numpy as np\n",
    "import matplotlib.pyplot as plt\n",
    "from scipy.io import wavfile\n",
    "from python_speech_features import mfcc\n",
    "import librosa\n",
    "from librosa.feature import melspectrogram\n",
    "import pickle\n",
    "\n",
    "from tensorflow.keras.layers import Conv2D, MaxPool2D, Flatten\n",
    "from tensorflow.keras.layers import Dropout, SpatialDropout2D, Dense\n",
    "from tensorflow.keras.models import Sequential\n",
    "from tensorflow.keras.callbacks import ModelCheckpoint, TensorBoard\n",
    "from tensorflow.keras.utils import to_categorical\n",
    "from sklearn.utils.class_weight import compute_class_weight\n",
    "from sklearn.model_selection import train_test_split\n",
    "from sklearn.decomposition import PCA\n",
    "\n",
    "\n",
    "from buildfeats import build_rand_feat, check_data\n",
    "# from model import get_conv_model\n",
    "from cfg import Config\n"
   ]
  },
  {
   "cell_type": "code",
   "execution_count": 194,
   "metadata": {},
   "outputs": [],
   "source": [
    "config = Config(feature_type='mels', n_mels=60)\n",
    "config.step = int(16000 / 2.5)"
   ]
  },
  {
   "cell_type": "code",
   "execution_count": 198,
   "metadata": {},
   "outputs": [
    {
     "data": {
      "text/plain": [
       "(297, 2)"
      ]
     },
     "execution_count": 198,
     "metadata": {},
     "output_type": "execute_result"
    }
   ],
   "source": [
    "##experimenting just on the 'curated' train set\n",
    "df = pd.read_csv('data/train/roadsound_labels.csv', index_col=0)\n",
    "df.set_index('fname', inplace=True)\n",
    "for f in df.index:\n",
    "    rate, signal = wavfile.read('clean/'+f)\n",
    "    df.at[f, 'length'] = signal.shape[0]/rate\n",
    "df.shape"
   ]
  },
  {
   "cell_type": "code",
   "execution_count": 199,
   "metadata": {},
   "outputs": [
    {
     "data": {
      "text/plain": [
       "(294, 2)"
      ]
     },
     "execution_count": 199,
     "metadata": {},
     "output_type": "execute_result"
    }
   ],
   "source": [
    "df = df[df.length > config.step/rate]\n",
    "df.shape"
   ]
  },
  {
   "cell_type": "code",
   "execution_count": 200,
   "metadata": {},
   "outputs": [],
   "source": [
    "classes = list(np.unique(df.labels))\n",
    "class_dist = df.groupby(['labels'])['length'].mean()\n",
    "n_samples = 2 * int(df['length'].sum() / 0.1) # 40 * total length of audio\n",
    "prob_dist = class_dist / class_dist.sum()\n",
    "choices = np.random.choice(class_dist.index, p=prob_dist)"
   ]
  },
  {
   "cell_type": "code",
   "execution_count": 201,
   "metadata": {},
   "outputs": [],
   "source": [
    "df, test_df, _ , _ = train_test_split(df, df.labels)"
   ]
  },
  {
   "cell_type": "code",
   "execution_count": 239,
   "metadata": {},
   "outputs": [],
   "source": [
    "def rand_feats_exper(df, split): \n",
    "    X = []\n",
    "    y = []\n",
    "#     split='train'\n",
    "    n_samples = 50000\n",
    "    _min, _max = float('inf'), -float('inf')\n",
    "\n",
    "    print('Building features for '+split)\n",
    "    for _ in tqdm(range(n_samples)):\n",
    "        rand_class = np.random.choice(classes, p=prob_dist)\n",
    "        file = np.random.choice(df[df.labels == rand_class].index)\n",
    "        rate, wav = wavfile.read('clean/'+file)\n",
    "        rand_index = np.random.randint(0, wav.shape[0] - config.step)\n",
    "        sample = wav[rand_index:rand_index + config.step]\n",
    "        if config.feature_type == 'mels':\n",
    "            X_sample = melspectrogram(sample, rate, n_mels=60,\n",
    "                                        n_fft=1028)\n",
    "            X_sample = librosa.power_to_db(X_sample)\n",
    "        if config.feature_type == 'raw':\n",
    "            X_sample = sample\n",
    "        _min = min(np.amin(X_sample), _min)\n",
    "        _max = max(np.amax(X_sample), _max)\n",
    "        X.append(X_sample)\n",
    "        y.append(classes.index(rand_class))\n",
    "    config.min = _min\n",
    "    config.max = _max\n",
    "    X, y = np.array(X), np.array(y)\n",
    "    X = (X - _min) / (_max - _min)\n",
    "    # X = X.reshape(X.shape[0], X.shape[1], X.shape[2], 1) ## not needed for raw signal\n",
    "    y = to_categorical(y)\n",
    "    return X, y"
   ]
  },
  {
   "cell_type": "code",
   "execution_count": 240,
   "metadata": {},
   "outputs": [
    {
     "name": "stdout",
     "output_type": "stream",
     "text": [
      "Building features for train\n"
     ]
    },
    {
     "data": {
      "application/vnd.jupyter.widget-view+json": {
       "model_id": "44a452b9907b41f894ed45b216b4398c",
       "version_major": 2,
       "version_minor": 0
      },
      "text/plain": [
       "HBox(children=(IntProgress(value=0, max=50000), HTML(value='')))"
      ]
     },
     "metadata": {},
     "output_type": "display_data"
    },
    {
     "name": "stdout",
     "output_type": "stream",
     "text": [
      "\n"
     ]
    }
   ],
   "source": [
    "X, y = rand_feats_exper(df, 'train')"
   ]
  },
  {
   "cell_type": "code",
   "execution_count": 241,
   "metadata": {},
   "outputs": [
    {
     "name": "stdout",
     "output_type": "stream",
     "text": [
      "Building features for test\n"
     ]
    },
    {
     "data": {
      "application/vnd.jupyter.widget-view+json": {
       "model_id": "e2cd027de2d74ece914a34044cd6384b",
       "version_major": 2,
       "version_minor": 0
      },
      "text/plain": [
       "HBox(children=(IntProgress(value=0, max=50000), HTML(value='')))"
      ]
     },
     "metadata": {},
     "output_type": "display_data"
    },
    {
     "name": "stdout",
     "output_type": "stream",
     "text": [
      "\n"
     ]
    }
   ],
   "source": [
    "X_test, y_test = rand_feats_exper(test_df, 'test')"
   ]
  },
  {
   "cell_type": "code",
   "execution_count": 203,
   "metadata": {},
   "outputs": [
    {
     "name": "stdout",
     "output_type": "stream",
     "text": [
      "X shape:  (10000, 26, 13)\n",
      "y shape:  (10000, 5)\n"
     ]
    }
   ],
   "source": [
    "print('X shape: ',X.shape)\n",
    "print('y shape: ', y.shape)"
   ]
  },
  {
   "cell_type": "code",
   "execution_count": 223,
   "metadata": {},
   "outputs": [],
   "source": [
    "#flatten\n",
    "X_train = X.reshape(len(X), -1)\n",
    "X_test = X_test.reshape(len(X_test), -1)"
   ]
  },
  {
   "cell_type": "code",
   "execution_count": 225,
   "metadata": {},
   "outputs": [
    {
     "data": {
      "text/plain": [
       "(2000, 338)"
      ]
     },
     "execution_count": 225,
     "metadata": {},
     "output_type": "execute_result"
    }
   ],
   "source": [
    "X_test.shape"
   ]
  },
  {
   "cell_type": "code",
   "execution_count": 226,
   "metadata": {},
   "outputs": [],
   "source": [
    "y_flat = np.argmax(y, axis=1)"
   ]
  },
  {
   "cell_type": "code",
   "execution_count": 227,
   "metadata": {},
   "outputs": [],
   "source": [
    "class_weight = compute_class_weight('balanced',\n",
    "                                    np.unique(y_flat),\n",
    "                                    y_flat)"
   ]
  },
  {
   "cell_type": "code",
   "execution_count": 228,
   "metadata": {},
   "outputs": [
    {
     "data": {
      "text/plain": [
       "array([2.36686391, 0.97799511, 0.72072072, 0.60150376, 1.98019802])"
      ]
     },
     "execution_count": 228,
     "metadata": {},
     "output_type": "execute_result"
    }
   ],
   "source": [
    "class_weight"
   ]
  },
  {
   "cell_type": "code",
   "execution_count": 207,
   "metadata": {},
   "outputs": [],
   "source": [
    "pca = PCA(n_components=20, random_state=1738)"
   ]
  },
  {
   "cell_type": "code",
   "execution_count": 209,
   "metadata": {},
   "outputs": [],
   "source": [
    "X_pca = pca.fit_transform(X)"
   ]
  },
  {
   "cell_type": "code",
   "execution_count": null,
   "metadata": {},
   "outputs": [],
   "source": [
    "X_pca.shape"
   ]
  },
  {
   "cell_type": "code",
   "execution_count": 163,
   "metadata": {},
   "outputs": [],
   "source": [
    "input_shape_1d = (X_pca.shape[1],)"
   ]
  },
  {
   "cell_type": "code",
   "execution_count": 139,
   "metadata": {},
   "outputs": [],
   "source": [
    "def get_conv_model():\n",
    "    model = Sequential()\n",
    "    model.add(Conv2D(filters=16, kernel_size=(3, 3), activation='relu',\n",
    "                    strides=(1,1), padding='same', input_shape=input_shape_1d))    \n",
    "    model.add(Conv2D(16, (3, 3), activation='relu', strides=(1,1),padding='same')) \n",
    "    # model.add(SpatialDropout2D(0.2))\n",
    "    model.add(Conv2D(32, (3, 3), activation='relu', strides=(1,1),padding='same'))\n",
    "    # model.add(Conv2D(128, (3, 3), activation='relu', strides=(1,1), padding='same'))\n",
    "    model.add(MaxPool2D((2,2)))\n",
    "    model.add(Dropout(0.5))\n",
    "    model.add(Flatten())\n",
    "    # model.add(Dense(128, activation='relu'))\n",
    "    model.add(Dropout(0.5))\n",
    "    model.add(Dense(32, activation='relu'))\n",
    "    # model.add(Dropout(0.5))\n",
    "    model.add(Dense(5, activation='softmax'))\n",
    "    model.summary()\n",
    "    model.compile(loss='categorical_crossentropy',\n",
    "                    optimizer='adam',\n",
    "                    metrics=['accuracy'])\n",
    "    return model"
   ]
  },
  {
   "cell_type": "code",
   "execution_count": 210,
   "metadata": {},
   "outputs": [
    {
     "data": {
      "text/plain": [
       "(338,)"
      ]
     },
     "execution_count": 210,
     "metadata": {},
     "output_type": "execute_result"
    }
   ],
   "source": [
    "shp = (X_train.shape[1],)\n",
    "shp"
   ]
  },
  {
   "cell_type": "code",
   "execution_count": 211,
   "metadata": {},
   "outputs": [],
   "source": [
    "def get_ae_model():\n",
    "    model = Sequential()\n",
    "    model.add(Dense(128,  activation='relu', input_shape=shp))\n",
    "    model.add(Dense(64,  activation='relu'))\n",
    "    model.add(Dense(2,    activation='linear', name=\"bottleneck\"))\n",
    "    model.add(Dense(64,  activation='relu'))\n",
    "    model.add(Dense(128,  activation='relu'))\n",
    "    model.add(Dense(shp[0],  activation='linear'))\n",
    "    model.compile(loss='mean_squared_error', optimizer = 'adam', metrics=['accuracy'])\n",
    "    return model"
   ]
  },
  {
   "cell_type": "code",
   "execution_count": 212,
   "metadata": {},
   "outputs": [],
   "source": [
    "aemodel = get_ae_model()"
   ]
  },
  {
   "cell_type": "code",
   "execution_count": 213,
   "metadata": {},
   "outputs": [
    {
     "name": "stdout",
     "output_type": "stream",
     "text": [
      "Model: \"sequential_9\"\n",
      "_________________________________________________________________\n",
      "Layer (type)                 Output Shape              Param #   \n",
      "=================================================================\n",
      "dense_35 (Dense)             (None, 128)               43392     \n",
      "_________________________________________________________________\n",
      "dense_36 (Dense)             (None, 64)                8256      \n",
      "_________________________________________________________________\n",
      "bottleneck (Dense)           (None, 2)                 130       \n",
      "_________________________________________________________________\n",
      "dense_37 (Dense)             (None, 64)                192       \n",
      "_________________________________________________________________\n",
      "dense_38 (Dense)             (None, 128)               8320      \n",
      "_________________________________________________________________\n",
      "dense_39 (Dense)             (None, 338)               43602     \n",
      "=================================================================\n",
      "Total params: 103,892\n",
      "Trainable params: 103,892\n",
      "Non-trainable params: 0\n",
      "_________________________________________________________________\n"
     ]
    }
   ],
   "source": [
    "aemodel.summary()"
   ]
  },
  {
   "cell_type": "code",
   "execution_count": 229,
   "metadata": {
    "collapsed": true
   },
   "outputs": [
    {
     "name": "stdout",
     "output_type": "stream",
     "text": [
      "Train on 2000 samples, validate on 2000 samples\n",
      "Epoch 1/100\n",
      "2000/2000 [==============================] - 0s 114us/sample - loss: 0.0023 - accuracy: 0.0500 - val_loss: 0.0028 - val_accuracy: 0.0525\n",
      "Epoch 2/100\n",
      "2000/2000 [==============================] - 0s 78us/sample - loss: 0.0023 - accuracy: 0.0480 - val_loss: 0.0028 - val_accuracy: 0.0550\n",
      "Epoch 3/100\n",
      "2000/2000 [==============================] - 0s 91us/sample - loss: 0.0023 - accuracy: 0.0520 - val_loss: 0.0028 - val_accuracy: 0.0525\n",
      "Epoch 4/100\n",
      "2000/2000 [==============================] - 0s 71us/sample - loss: 0.0022 - accuracy: 0.0615 - val_loss: 0.0028 - val_accuracy: 0.0495\n",
      "Epoch 5/100\n",
      "2000/2000 [==============================] - 0s 62us/sample - loss: 0.0022 - accuracy: 0.0605 - val_loss: 0.0027 - val_accuracy: 0.0650\n",
      "Epoch 6/100\n",
      "2000/2000 [==============================] - 0s 73us/sample - loss: 0.0022 - accuracy: 0.0625 - val_loss: 0.0029 - val_accuracy: 0.0490\n",
      "Epoch 7/100\n",
      "2000/2000 [==============================] - 0s 75us/sample - loss: 0.0022 - accuracy: 0.0545 - val_loss: 0.0028 - val_accuracy: 0.0515\n",
      "Epoch 8/100\n",
      "2000/2000 [==============================] - 0s 72us/sample - loss: 0.0022 - accuracy: 0.0545 - val_loss: 0.0027 - val_accuracy: 0.0540\n",
      "Epoch 9/100\n",
      "2000/2000 [==============================] - 0s 83us/sample - loss: 0.0021 - accuracy: 0.0630 - val_loss: 0.0027 - val_accuracy: 0.0595\n",
      "Epoch 10/100\n",
      "2000/2000 [==============================] - 0s 72us/sample - loss: 0.0021 - accuracy: 0.0605 - val_loss: 0.0027 - val_accuracy: 0.0560\n",
      "Epoch 11/100\n",
      "2000/2000 [==============================] - 0s 92us/sample - loss: 0.0022 - accuracy: 0.0605 - val_loss: 0.0028 - val_accuracy: 0.0420\n",
      "Epoch 12/100\n",
      "2000/2000 [==============================] - 0s 70us/sample - loss: 0.0022 - accuracy: 0.0580 - val_loss: 0.0027 - val_accuracy: 0.0600\n",
      "Epoch 13/100\n",
      "2000/2000 [==============================] - 0s 70us/sample - loss: 0.0022 - accuracy: 0.0625 - val_loss: 0.0029 - val_accuracy: 0.0570\n",
      "Epoch 14/100\n",
      "2000/2000 [==============================] - 0s 80us/sample - loss: 0.0022 - accuracy: 0.0615 - val_loss: 0.0028 - val_accuracy: 0.0570\n",
      "Epoch 15/100\n",
      "2000/2000 [==============================] - 0s 63us/sample - loss: 0.0022 - accuracy: 0.0640 - val_loss: 0.0028 - val_accuracy: 0.0520\n",
      "Epoch 16/100\n",
      "2000/2000 [==============================] - 0s 71us/sample - loss: 0.0022 - accuracy: 0.0665 - val_loss: 0.0028 - val_accuracy: 0.0480\n",
      "Epoch 17/100\n",
      "2000/2000 [==============================] - 0s 74us/sample - loss: 0.0021 - accuracy: 0.0435 - val_loss: 0.0028 - val_accuracy: 0.0550\n",
      "Epoch 18/100\n",
      "2000/2000 [==============================] - 0s 88us/sample - loss: 0.0021 - accuracy: 0.0560 - val_loss: 0.0028 - val_accuracy: 0.0480\n",
      "Epoch 19/100\n",
      "2000/2000 [==============================] - 0s 61us/sample - loss: 0.0021 - accuracy: 0.0550 - val_loss: 0.0028 - val_accuracy: 0.0470\n",
      "Epoch 20/100\n",
      "2000/2000 [==============================] - 0s 76us/sample - loss: 0.0021 - accuracy: 0.0545 - val_loss: 0.0028 - val_accuracy: 0.0420\n",
      "Epoch 21/100\n",
      "2000/2000 [==============================] - 0s 74us/sample - loss: 0.0021 - accuracy: 0.0505 - val_loss: 0.0027 - val_accuracy: 0.0505\n",
      "Epoch 22/100\n",
      "2000/2000 [==============================] - 0s 75us/sample - loss: 0.0021 - accuracy: 0.0585 - val_loss: 0.0027 - val_accuracy: 0.0545\n",
      "Epoch 23/100\n",
      "2000/2000 [==============================] - 0s 83us/sample - loss: 0.0021 - accuracy: 0.0495 - val_loss: 0.0027 - val_accuracy: 0.0545\n",
      "Epoch 24/100\n",
      "2000/2000 [==============================] - 0s 81us/sample - loss: 0.0021 - accuracy: 0.0600 - val_loss: 0.0027 - val_accuracy: 0.0485\n",
      "Epoch 25/100\n",
      "2000/2000 [==============================] - 0s 75us/sample - loss: 0.0021 - accuracy: 0.0545 - val_loss: 0.0028 - val_accuracy: 0.0545\n",
      "Epoch 26/100\n",
      "2000/2000 [==============================] - 0s 96us/sample - loss: 0.0021 - accuracy: 0.0500 - val_loss: 0.0027 - val_accuracy: 0.0475\n",
      "Epoch 27/100\n",
      "2000/2000 [==============================] - 0s 138us/sample - loss: 0.0021 - accuracy: 0.0510 - val_loss: 0.0027 - val_accuracy: 0.0660\n",
      "Epoch 28/100\n",
      "2000/2000 [==============================] - 0s 115us/sample - loss: 0.0021 - accuracy: 0.0580 - val_loss: 0.0028 - val_accuracy: 0.0400\n",
      "Epoch 29/100\n",
      "2000/2000 [==============================] - 0s 131us/sample - loss: 0.0021 - accuracy: 0.0505 - val_loss: 0.0027 - val_accuracy: 0.0445\n",
      "Epoch 30/100\n",
      "2000/2000 [==============================] - 0s 118us/sample - loss: 0.0021 - accuracy: 0.0515 - val_loss: 0.0027 - val_accuracy: 0.0530\n",
      "Epoch 31/100\n",
      "2000/2000 [==============================] - 0s 99us/sample - loss: 0.0021 - accuracy: 0.0500 - val_loss: 0.0027 - val_accuracy: 0.0455\n",
      "Epoch 32/100\n",
      "2000/2000 [==============================] - 0s 82us/sample - loss: 0.0021 - accuracy: 0.0580 - val_loss: 0.0028 - val_accuracy: 0.0500\n",
      "Epoch 33/100\n",
      "2000/2000 [==============================] - 0s 96us/sample - loss: 0.0021 - accuracy: 0.0560 - val_loss: 0.0028 - val_accuracy: 0.0465\n",
      "Epoch 34/100\n",
      "2000/2000 [==============================] - 0s 102us/sample - loss: 0.0021 - accuracy: 0.0570 - val_loss: 0.0028 - val_accuracy: 0.0600\n",
      "Epoch 35/100\n",
      "2000/2000 [==============================] - 0s 69us/sample - loss: 0.0021 - accuracy: 0.0565 - val_loss: 0.0028 - val_accuracy: 0.0580\n",
      "Epoch 36/100\n",
      "2000/2000 [==============================] - 0s 114us/sample - loss: 0.0021 - accuracy: 0.0630 - val_loss: 0.0027 - val_accuracy: 0.0415\n",
      "Epoch 37/100\n",
      "2000/2000 [==============================] - 0s 172us/sample - loss: 0.0021 - accuracy: 0.0555 - val_loss: 0.0028 - val_accuracy: 0.0440\n",
      "Epoch 38/100\n",
      "2000/2000 [==============================] - 0s 125us/sample - loss: 0.0021 - accuracy: 0.0545 - val_loss: 0.0028 - val_accuracy: 0.0495\n",
      "Epoch 39/100\n",
      "2000/2000 [==============================] - 0s 117us/sample - loss: 0.0021 - accuracy: 0.0590 - val_loss: 0.0028 - val_accuracy: 0.0485\n",
      "Epoch 40/100\n",
      "2000/2000 [==============================] - 0s 96us/sample - loss: 0.0021 - accuracy: 0.0725 - val_loss: 0.0028 - val_accuracy: 0.0465\n",
      "Epoch 41/100\n",
      "2000/2000 [==============================] - 0s 136us/sample - loss: 0.0021 - accuracy: 0.0545 - val_loss: 0.0027 - val_accuracy: 0.0545\n",
      "Epoch 42/100\n",
      "2000/2000 [==============================] - 0s 94us/sample - loss: 0.0021 - accuracy: 0.0660 - val_loss: 0.0028 - val_accuracy: 0.0520\n",
      "Epoch 43/100\n",
      "2000/2000 [==============================] - 0s 142us/sample - loss: 0.0021 - accuracy: 0.0555 - val_loss: 0.0028 - val_accuracy: 0.0425\n",
      "Epoch 44/100\n",
      "2000/2000 [==============================] - 0s 74us/sample - loss: 0.0021 - accuracy: 0.0535 - val_loss: 0.0028 - val_accuracy: 0.0390\n",
      "Epoch 45/100\n",
      "2000/2000 [==============================] - 0s 82us/sample - loss: 0.0021 - accuracy: 0.0550 - val_loss: 0.0028 - val_accuracy: 0.0465\n",
      "Epoch 46/100\n",
      "2000/2000 [==============================] - 0s 85us/sample - loss: 0.0021 - accuracy: 0.0540 - val_loss: 0.0028 - val_accuracy: 0.0425\n",
      "Epoch 47/100\n",
      "2000/2000 [==============================] - 0s 92us/sample - loss: 0.0021 - accuracy: 0.0620 - val_loss: 0.0027 - val_accuracy: 0.0405\n",
      "Epoch 48/100\n",
      "2000/2000 [==============================] - 0s 88us/sample - loss: 0.0021 - accuracy: 0.0570 - val_loss: 0.0027 - val_accuracy: 0.0505\n",
      "Epoch 49/100\n",
      "2000/2000 [==============================] - 0s 75us/sample - loss: 0.0021 - accuracy: 0.0590 - val_loss: 0.0028 - val_accuracy: 0.0330\n",
      "Epoch 50/100\n",
      "2000/2000 [==============================] - 0s 74us/sample - loss: 0.0021 - accuracy: 0.0590 - val_loss: 0.0027 - val_accuracy: 0.0590\n",
      "Epoch 51/100\n",
      "2000/2000 [==============================] - 0s 139us/sample - loss: 0.0020 - accuracy: 0.0625 - val_loss: 0.0028 - val_accuracy: 0.0415\n",
      "Epoch 52/100\n",
      "2000/2000 [==============================] - 0s 104us/sample - loss: 0.0021 - accuracy: 0.0580 - val_loss: 0.0028 - val_accuracy: 0.0520\n",
      "Epoch 53/100\n",
      "2000/2000 [==============================] - 0s 137us/sample - loss: 0.0020 - accuracy: 0.0620 - val_loss: 0.0027 - val_accuracy: 0.0445\n",
      "Epoch 54/100\n",
      "2000/2000 [==============================] - 0s 126us/sample - loss: 0.0021 - accuracy: 0.0545 - val_loss: 0.0028 - val_accuracy: 0.0380\n",
      "Epoch 55/100\n"
     ]
    },
    {
     "name": "stdout",
     "output_type": "stream",
     "text": [
      "2000/2000 [==============================] - 0s 110us/sample - loss: 0.0021 - accuracy: 0.0530 - val_loss: 0.0028 - val_accuracy: 0.0420\n",
      "Epoch 56/100\n",
      "2000/2000 [==============================] - 0s 101us/sample - loss: 0.0021 - accuracy: 0.0595 - val_loss: 0.0028 - val_accuracy: 0.0360\n",
      "Epoch 57/100\n",
      "2000/2000 [==============================] - 0s 77us/sample - loss: 0.0020 - accuracy: 0.0605 - val_loss: 0.0028 - val_accuracy: 0.0400\n",
      "Epoch 58/100\n",
      "2000/2000 [==============================] - 0s 62us/sample - loss: 0.0020 - accuracy: 0.0560 - val_loss: 0.0028 - val_accuracy: 0.0570\n",
      "Epoch 59/100\n",
      "2000/2000 [==============================] - 0s 91us/sample - loss: 0.0020 - accuracy: 0.0575 - val_loss: 0.0028 - val_accuracy: 0.0430\n",
      "Epoch 60/100\n",
      "2000/2000 [==============================] - 0s 97us/sample - loss: 0.0021 - accuracy: 0.0465 - val_loss: 0.0028 - val_accuracy: 0.0485\n",
      "Epoch 61/100\n",
      "2000/2000 [==============================] - 0s 77us/sample - loss: 0.0021 - accuracy: 0.0635 - val_loss: 0.0027 - val_accuracy: 0.0435\n",
      "Epoch 62/100\n",
      "2000/2000 [==============================] - 0s 65us/sample - loss: 0.0020 - accuracy: 0.0530 - val_loss: 0.0028 - val_accuracy: 0.0445\n",
      "Epoch 63/100\n",
      "2000/2000 [==============================] - 0s 73us/sample - loss: 0.0021 - accuracy: 0.0535 - val_loss: 0.0029 - val_accuracy: 0.0460\n",
      "Epoch 64/100\n",
      "2000/2000 [==============================] - 0s 63us/sample - loss: 0.0021 - accuracy: 0.0630 - val_loss: 0.0028 - val_accuracy: 0.0500\n",
      "Epoch 65/100\n",
      "2000/2000 [==============================] - 0s 102us/sample - loss: 0.0021 - accuracy: 0.0575 - val_loss: 0.0028 - val_accuracy: 0.0405\n",
      "Epoch 66/100\n",
      "2000/2000 [==============================] - 0s 97us/sample - loss: 0.0021 - accuracy: 0.0515 - val_loss: 0.0028 - val_accuracy: 0.0485\n",
      "Epoch 67/100\n",
      "2000/2000 [==============================] - 0s 95us/sample - loss: 0.0021 - accuracy: 0.0610 - val_loss: 0.0028 - val_accuracy: 0.0585\n",
      "Epoch 68/100\n",
      "2000/2000 [==============================] - 0s 103us/sample - loss: 0.0021 - accuracy: 0.0625 - val_loss: 0.0029 - val_accuracy: 0.0390\n",
      "Epoch 69/100\n",
      "2000/2000 [==============================] - 0s 78us/sample - loss: 0.0021 - accuracy: 0.0570 - val_loss: 0.0028 - val_accuracy: 0.0485\n",
      "Epoch 70/100\n",
      "2000/2000 [==============================] - 0s 78us/sample - loss: 0.0020 - accuracy: 0.0690 - val_loss: 0.0027 - val_accuracy: 0.0485\n",
      "Epoch 71/100\n",
      "2000/2000 [==============================] - 0s 91us/sample - loss: 0.0020 - accuracy: 0.0645 - val_loss: 0.0027 - val_accuracy: 0.0460\n",
      "Epoch 72/100\n",
      "2000/2000 [==============================] - 0s 79us/sample - loss: 0.0020 - accuracy: 0.0675 - val_loss: 0.0028 - val_accuracy: 0.0550\n",
      "Epoch 73/100\n",
      "2000/2000 [==============================] - 0s 87us/sample - loss: 0.0020 - accuracy: 0.0665 - val_loss: 0.0028 - val_accuracy: 0.0480\n",
      "Epoch 74/100\n",
      "2000/2000 [==============================] - 0s 65us/sample - loss: 0.0021 - accuracy: 0.0570 - val_loss: 0.0028 - val_accuracy: 0.0400\n",
      "Epoch 75/100\n",
      "2000/2000 [==============================] - 0s 82us/sample - loss: 0.0020 - accuracy: 0.0595 - val_loss: 0.0028 - val_accuracy: 0.0465\n",
      "Epoch 76/100\n",
      "2000/2000 [==============================] - 0s 66us/sample - loss: 0.0020 - accuracy: 0.0470 - val_loss: 0.0028 - val_accuracy: 0.0550\n",
      "Epoch 77/100\n",
      "2000/2000 [==============================] - 0s 86us/sample - loss: 0.0020 - accuracy: 0.0600 - val_loss: 0.0028 - val_accuracy: 0.0540\n",
      "Epoch 78/100\n",
      "2000/2000 [==============================] - 0s 100us/sample - loss: 0.0020 - accuracy: 0.0655 - val_loss: 0.0028 - val_accuracy: 0.0435\n",
      "Epoch 79/100\n",
      "2000/2000 [==============================] - 0s 100us/sample - loss: 0.0021 - accuracy: 0.0675 - val_loss: 0.0028 - val_accuracy: 0.0345\n",
      "Epoch 80/100\n",
      "2000/2000 [==============================] - 0s 74us/sample - loss: 0.0020 - accuracy: 0.0645 - val_loss: 0.0030 - val_accuracy: 0.0385\n",
      "Epoch 81/100\n",
      "2000/2000 [==============================] - 0s 123us/sample - loss: 0.0021 - accuracy: 0.0575 - val_loss: 0.0028 - val_accuracy: 0.0365\n",
      "Epoch 82/100\n",
      "2000/2000 [==============================] - 0s 101us/sample - loss: 0.0021 - accuracy: 0.0665 - val_loss: 0.0028 - val_accuracy: 0.0465\n",
      "Epoch 83/100\n",
      "2000/2000 [==============================] - 0s 92us/sample - loss: 0.0021 - accuracy: 0.0515 - val_loss: 0.0028 - val_accuracy: 0.0545\n",
      "Epoch 84/100\n",
      "2000/2000 [==============================] - 0s 87us/sample - loss: 0.0021 - accuracy: 0.0565 - val_loss: 0.0029 - val_accuracy: 0.0435\n",
      "Epoch 85/100\n",
      "2000/2000 [==============================] - 0s 83us/sample - loss: 0.0021 - accuracy: 0.0595 - val_loss: 0.0029 - val_accuracy: 0.0575\n",
      "Epoch 86/100\n",
      "2000/2000 [==============================] - 0s 79us/sample - loss: 0.0021 - accuracy: 0.0660 - val_loss: 0.0028 - val_accuracy: 0.0470\n",
      "Epoch 87/100\n",
      "2000/2000 [==============================] - 0s 79us/sample - loss: 0.0021 - accuracy: 0.0585 - val_loss: 0.0029 - val_accuracy: 0.0415\n",
      "Epoch 88/100\n",
      "2000/2000 [==============================] - 0s 69us/sample - loss: 0.0020 - accuracy: 0.0595 - val_loss: 0.0028 - val_accuracy: 0.0385\n",
      "Epoch 89/100\n",
      "2000/2000 [==============================] - 0s 129us/sample - loss: 0.0020 - accuracy: 0.0585 - val_loss: 0.0029 - val_accuracy: 0.0490\n",
      "Epoch 90/100\n",
      "2000/2000 [==============================] - 0s 62us/sample - loss: 0.0020 - accuracy: 0.0620 - val_loss: 0.0028 - val_accuracy: 0.0415\n",
      "Epoch 91/100\n",
      "2000/2000 [==============================] - 0s 67us/sample - loss: 0.0020 - accuracy: 0.0640 - val_loss: 0.0028 - val_accuracy: 0.0395\n",
      "Epoch 92/100\n",
      "2000/2000 [==============================] - 0s 73us/sample - loss: 0.0021 - accuracy: 0.0635 - val_loss: 0.0028 - val_accuracy: 0.0395\n",
      "Epoch 93/100\n",
      "2000/2000 [==============================] - 0s 46us/sample - loss: 0.0020 - accuracy: 0.0665 - val_loss: 0.0028 - val_accuracy: 0.0390\n",
      "Epoch 94/100\n",
      "2000/2000 [==============================] - 0s 44us/sample - loss: 0.0021 - accuracy: 0.0665 - val_loss: 0.0028 - val_accuracy: 0.0380\n",
      "Epoch 95/100\n",
      "2000/2000 [==============================] - 0s 68us/sample - loss: 0.0021 - accuracy: 0.0540 - val_loss: 0.0028 - val_accuracy: 0.0395\n",
      "Epoch 96/100\n",
      "2000/2000 [==============================] - 0s 45us/sample - loss: 0.0021 - accuracy: 0.0570 - val_loss: 0.0028 - val_accuracy: 0.0455\n",
      "Epoch 97/100\n",
      "2000/2000 [==============================] - 0s 44us/sample - loss: 0.0020 - accuracy: 0.0555 - val_loss: 0.0028 - val_accuracy: 0.0455\n",
      "Epoch 98/100\n",
      "2000/2000 [==============================] - 0s 45us/sample - loss: 0.0020 - accuracy: 0.0610 - val_loss: 0.0028 - val_accuracy: 0.0405\n",
      "Epoch 99/100\n",
      "2000/2000 [==============================] - 0s 45us/sample - loss: 0.0020 - accuracy: 0.0570 - val_loss: 0.0028 - val_accuracy: 0.0480\n",
      "Epoch 100/100\n",
      "2000/2000 [==============================] - 0s 45us/sample - loss: 0.0020 - accuracy: 0.0680 - val_loss: 0.0028 - val_accuracy: 0.0465\n"
     ]
    }
   ],
   "source": [
    "history = aemodel.fit(X_train.astype(float), X_train.astype(float),\n",
    "                     batch_size=128,\n",
    "                     epochs=100,\n",
    "                     validation_data=(X_test, X_test),\n",
    "                     class_weight=class_weight\n",
    "                     )"
   ]
  },
  {
   "cell_type": "code",
   "execution_count": null,
   "metadata": {},
   "outputs": [],
   "source": []
  },
  {
   "cell_type": "code",
   "execution_count": null,
   "metadata": {},
   "outputs": [],
   "source": []
  },
  {
   "cell_type": "code",
   "execution_count": null,
   "metadata": {},
   "outputs": [],
   "source": []
  },
  {
   "cell_type": "code",
   "execution_count": 230,
   "metadata": {},
   "outputs": [
    {
     "data": {
      "text/plain": [
       "Text(0.5, 0, 'epoch')"
      ]
     },
     "execution_count": 230,
     "metadata": {},
     "output_type": "execute_result"
    },
    {
     "data": {
      "image/png": "[encoded data removed]",
      "text/plain": [
       "<Figure size 432x288 with 1 Axes>"
      ]
     },
     "metadata": {
      "needs_background": "light"
     },
     "output_type": "display_data"
    }
   ],
   "source": [
    "plt.title(\"train loss\")\n",
    "plt.plot( history.history[\"loss\"] , label='train loss')\n",
    "plt.plot( history.history[\"val_loss\"], label='val loss' )\n",
    "plt.legend()\n",
    "\n",
    "plt.xlabel(\"epoch\")"
   ]
  },
  {
   "cell_type": "code",
   "execution_count": 231,
   "metadata": {},
   "outputs": [
    {
     "data": {
      "text/plain": [
       "Text(0.5, 0, 'epoch')"
      ]
     },
     "execution_count": 231,
     "metadata": {},
     "output_type": "execute_result"
    },
    {
     "data": {
      "image/png": "[encoded data removed]",
      "text/plain": [
       "<Figure size 432x288 with 1 Axes>"
      ]
     },
     "metadata": {
      "needs_background": "light"
     },
     "output_type": "display_data"
    }
   ],
   "source": [
    "plt.title(\"accuracy\")\n",
    "plt.plot( history.history[\"accuracy\"] , label='train accuracy')\n",
    "plt.plot( history.history[\"val_accuracy\"], label='val accuracy' )\n",
    "plt.legend()\n",
    "\n",
    "plt.xlabel(\"epoch\")"
   ]
  },
  {
   "cell_type": "code",
   "execution_count": 235,
   "metadata": {},
   "outputs": [
    {
     "data": {
      "image/png": "[encoded data removed]",
      "text/plain": [
       "<Figure size 1080x216 with 20 Axes>"
      ]
     },
     "metadata": {
      "needs_background": "light"
     },
     "output_type": "display_data"
    }
   ],
   "source": [
    "im_i=15\n",
    "\n",
    "fig, axs = plt.subplots(2,10, figsize=(15,3))\n",
    "for i in range(10):\n",
    "    axs[0][i].imshow( X_train[i:i+1].reshape(26,13) )\n",
    "    axs[1][i].imshow( aemodel.predict( X_train[i:i+1] ).reshape(26,13) )\n"
   ]
  },
  {
   "cell_type": "code",
   "execution_count": null,
   "metadata": {},
   "outputs": [],
   "source": []
  }
 ],
 "metadata": {
  "kernelspec": {
   "display_name": "Python 3",
   "language": "python",
   "name": "python3"
  },
  "language_info": {
   "codemirror_mode": {
    "name": "ipython",
    "version": 3
   },
   "file_extension": ".py",
   "mimetype": "text/x-python",
   "name": "python",
   "nbconvert_exporter": "python",
   "pygments_lexer": "ipython3",
   "version": "3.7.3"
  }
 },
 "nbformat": 4,
 "nbformat_minor": 2
}
