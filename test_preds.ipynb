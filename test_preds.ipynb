{
 "cells": [
  {
   "cell_type": "code",
   "execution_count": 1,
   "metadata": {},
   "outputs": [],
   "source": [
    "import os\n",
    "from tqdm import tqdm\n",
    "from collections import defaultdict\n",
    "import pickle\n",
    "import pandas as pd\n",
    "import numpy as np\n",
    "from scipy.io import wavfile\n",
    "import librosa\n",
    "from librosa.feature import melspectrogram\n",
    "from python_speech_features import mfcc\n",
    "from tensorflow.keras.models import load_model\n",
    "from sklearn.metrics import accuracy_score, precision_score, recall_score"
   ]
  },
  {
   "cell_type": "code",
   "execution_count": 2,
   "metadata": {},
   "outputs": [],
   "source": [
    "def check_test_data():\n",
    "    if os.path.isfile(config.test_p_path):\n",
    "        print('Loading existing data for {} model'.format(config.mode))\n",
    "        with open(config.test_p_path, 'rb') as handle:\n",
    "            tmp = pickle.load(handle)\n",
    "            return tmp \n",
    "    else:\n",
    "        return None"
   ]
  },
  {
   "cell_type": "code",
   "execution_count": 11,
   "metadata": {},
   "outputs": [],
   "source": [
    "def build_test_feat(audio_dir):\n",
    "    tmp = check_test_data()\n",
    "    if tmp:\n",
    "        return tmp.data # a dictionary of arrays\n",
    "    fsplits = defaultdict(list)\n",
    "    print('Extracting features from audio')\n",
    "    for fn in tqdm(os.listdir(audio_dir)):\n",
    "        rate, wav = wavfile.read(os.path.join(audio_dir, fn))\n",
    "        label = fn2class[fn]\n",
    "        c = classes.index(label)\n",
    "        fsplits[fn] = []\n",
    "\n",
    "        for i in range(0, wav.shape[0] - config.step, config.step):\n",
    "            sample = wav[i:i + config.step]\n",
    "            # x = mfcc(sample, rate,\n",
    "            #             numcep=config.nfeat, nfilt=config.nfilt, nfft = config.nfft)\n",
    "            if config.feature_type == 'mels':\n",
    "                x = melspectrogram(sample, rate, n_mels=config.n_mels, n_fft=config.nfft)\n",
    "                x = librosa.power_to_db(x)\n",
    "            x = (x - config.min) / (config.max - config.min)\n",
    "            if config.mode == 'conv':\n",
    "                x = x.reshape(1, x.shape[0], x.shape[1], 1)\n",
    "            elif config.mode == 'time':\n",
    "                x = np.expand_dims(x, axis=0)\n",
    "            fsplits[fn].append(x)\n",
    "    return fsplits"
   ]
  },
  {
   "cell_type": "code",
   "execution_count": 21,
   "metadata": {},
   "outputs": [],
   "source": [
    "def build_predictions(audio_dir):\n",
    "    y_true = []\n",
    "    y_pred = []\n",
    "    fn_prob = {}\n",
    "    fsplits = build_test_feat(audio_dir)\n",
    "\n",
    "    print(\"Making predictions\")\n",
    "    for fn in tqdm(os.listdir(audio_dir)):\n",
    "        label = fn2class[fn]\n",
    "        c = classes.index(label)\n",
    "        splits = fsplits[fn]\n",
    "        y_prob = []\n",
    "        for x in splits:\n",
    "            y_hat = model.predict(x)\n",
    "            y_prob.append(y_hat)    \n",
    "            y_pred.append(np.argmax(y_hat))\n",
    "            y_true.append(c)\n",
    "        fn_prob[fn] = np.mean(y_prob, axis=0).flatten()\n",
    "    return y_true, y_pred, fn_prob"
   ]
  },
  {
   "cell_type": "code",
   "execution_count": 12,
   "metadata": {},
   "outputs": [],
   "source": [
    "df = pd.read_csv('data/test/roadsound_labels.csv', index_col=0)\n",
    "classes = list(np.unique(df.labels))\n",
    "fn2class = dict(zip(df.fname, df.labels))\n",
    "p_path = os.path.join('pickles', 'conv.p') ### configuration file\n",
    "with open(p_path, 'rb') as handle:\n",
    "    config = pickle.load(handle)"
   ]
  },
  {
   "cell_type": "code",
   "execution_count": 20,
   "metadata": {},
   "outputs": [],
   "source": [
    "model = load_model('models/10epochs_20200218.h5')"
   ]
  },
  {
   "cell_type": "code",
   "execution_count": 22,
   "metadata": {},
   "outputs": [
    {
     "name": "stderr",
     "output_type": "stream",
     "text": [
      "\r",
      "  0%|          | 0/194 [00:00<?, ?it/s]"
     ]
    },
    {
     "name": "stdout",
     "output_type": "stream",
     "text": [
      "Extracting features from audio\n"
     ]
    },
    {
     "name": "stderr",
     "output_type": "stream",
     "text": [
      "100%|██████████| 194/194 [00:25<00:00,  7.55it/s]\n",
      "  0%|          | 0/194 [00:00<?, ?it/s]"
     ]
    },
    {
     "name": "stdout",
     "output_type": "stream",
     "text": [
      "Making predictions\n"
     ]
    },
    {
     "name": "stderr",
     "output_type": "stream",
     "text": [
      "100%|██████████| 194/194 [30:21<00:00,  9.39s/it]   \n"
     ]
    }
   ],
   "source": [
    "y_true, y_pred, fn_prob = build_predictions('audio/test_roadsound')"
   ]
  },
  {
   "cell_type": "code",
   "execution_count": 23,
   "metadata": {},
   "outputs": [],
   "source": [
    "acc_score = accuracy_score(y_true=y_true, y_pred=y_pred)"
   ]
  },
  {
   "cell_type": "code",
   "execution_count": 30,
   "metadata": {},
   "outputs": [],
   "source": [
    "cur_df = pd.read_csv('data/train/roadsound_labels.csv', index_col=0)"
   ]
  },
  {
   "cell_type": "code",
   "execution_count": 31,
   "metadata": {},
   "outputs": [],
   "source": [
    "noisy_df = pd.read_csv('data/train_noisy/roadsound_labels.csv', index_col=0)"
   ]
  },
  {
   "cell_type": "code",
   "execution_count": 33,
   "metadata": {},
   "outputs": [
    {
     "name": "stderr",
     "output_type": "stream",
     "text": [
      "/Users/jared/anaconda3/lib/python3.7/site-packages/ipykernel_launcher.py:1: FutureWarning: Sorting because non-concatenation axis is not aligned. A future version\n",
      "of pandas will change to not sort by default.\n",
      "\n",
      "To accept the future behavior, pass 'sort=False'.\n",
      "\n",
      "To retain the current behavior and silence the warning, pass 'sort=True'.\n",
      "\n",
      "  \"\"\"Entry point for launching an IPython kernel.\n"
     ]
    }
   ],
   "source": [
    "df = pd.concat([cur_df, noisy_df])\n",
    "df.set_index('fname', inplace=True)"
   ]
  },
  {
   "cell_type": "code",
   "execution_count": 34,
   "metadata": {},
   "outputs": [
    {
     "data": {
      "text/html": [
       "<div>\n",
       "<style scoped>\n",
       "    .dataframe tbody tr th:only-of-type {\n",
       "        vertical-align: middle;\n",
       "    }\n",
       "\n",
       "    .dataframe tbody tr th {\n",
       "        vertical-align: top;\n",
       "    }\n",
       "\n",
       "    .dataframe thead th {\n",
       "        text-align: right;\n",
       "    }\n",
       "</style>\n",
       "<table border=\"1\" class=\"dataframe\">\n",
       "  <thead>\n",
       "    <tr style=\"text-align: right;\">\n",
       "      <th></th>\n",
       "      <th>flickr_video_URL</th>\n",
       "      <th>labels</th>\n",
       "      <th>license</th>\n",
       "    </tr>\n",
       "    <tr>\n",
       "      <th>fname</th>\n",
       "      <th></th>\n",
       "      <th></th>\n",
       "      <th></th>\n",
       "    </tr>\n",
       "  </thead>\n",
       "  <tbody>\n",
       "    <tr>\n",
       "      <td>40d9de68.wav</td>\n",
       "      <td>NaN</td>\n",
       "      <td>Bicycle_bell</td>\n",
       "      <td>NaN</td>\n",
       "    </tr>\n",
       "    <tr>\n",
       "      <td>e66309d9.wav</td>\n",
       "      <td>NaN</td>\n",
       "      <td>Bicycle_bell</td>\n",
       "      <td>NaN</td>\n",
       "    </tr>\n",
       "    <tr>\n",
       "      <td>d1fb51da.wav</td>\n",
       "      <td>NaN</td>\n",
       "      <td>Bicycle_bell</td>\n",
       "      <td>NaN</td>\n",
       "    </tr>\n",
       "    <tr>\n",
       "      <td>074a72f0.wav</td>\n",
       "      <td>NaN</td>\n",
       "      <td>Bicycle_bell</td>\n",
       "      <td>NaN</td>\n",
       "    </tr>\n",
       "    <tr>\n",
       "      <td>35badf6d.wav</td>\n",
       "      <td>NaN</td>\n",
       "      <td>Bicycle_bell</td>\n",
       "      <td>NaN</td>\n",
       "    </tr>\n",
       "    <tr>\n",
       "      <td>...</td>\n",
       "      <td>...</td>\n",
       "      <td>...</td>\n",
       "      <td>...</td>\n",
       "    </tr>\n",
       "    <tr>\n",
       "      <td>fdda6e7d.wav</td>\n",
       "      <td>http://www.flickr.com/videos/92996378@N00/7566...</td>\n",
       "      <td>Bicycle_bell</td>\n",
       "      <td>CC BY 2.0</td>\n",
       "    </tr>\n",
       "    <tr>\n",
       "      <td>fdeb319b.wav</td>\n",
       "      <td>http://www.flickr.com/videos/9749756@N06/56971...</td>\n",
       "      <td>Bus</td>\n",
       "      <td>CC BY 2.0</td>\n",
       "    </tr>\n",
       "    <tr>\n",
       "      <td>fe28bb6d.wav</td>\n",
       "      <td>http://www.flickr.com/videos/25921029@N05/4805...</td>\n",
       "      <td>Bicycle_bell</td>\n",
       "      <td>CC BY 2.0</td>\n",
       "    </tr>\n",
       "    <tr>\n",
       "      <td>fee6710e.wav</td>\n",
       "      <td>http://www.flickr.com/videos/53051966@N00/2470...</td>\n",
       "      <td>Bus</td>\n",
       "      <td>CC BY-SA 2.0</td>\n",
       "    </tr>\n",
       "    <tr>\n",
       "      <td>ff242d10.wav</td>\n",
       "      <td>http://www.flickr.com/videos/27704120@N02/6151...</td>\n",
       "      <td>Race_car_and_auto_racing</td>\n",
       "      <td>CC BY 2.0</td>\n",
       "    </tr>\n",
       "  </tbody>\n",
       "</table>\n",
       "<p>1556 rows × 3 columns</p>\n",
       "</div>"
      ],
      "text/plain": [
       "                                               flickr_video_URL  \\\n",
       "fname                                                             \n",
       "40d9de68.wav                                                NaN   \n",
       "e66309d9.wav                                                NaN   \n",
       "d1fb51da.wav                                                NaN   \n",
       "074a72f0.wav                                                NaN   \n",
       "35badf6d.wav                                                NaN   \n",
       "...                                                         ...   \n",
       "fdda6e7d.wav  http://www.flickr.com/videos/92996378@N00/7566...   \n",
       "fdeb319b.wav  http://www.flickr.com/videos/9749756@N06/56971...   \n",
       "fe28bb6d.wav  http://www.flickr.com/videos/25921029@N05/4805...   \n",
       "fee6710e.wav  http://www.flickr.com/videos/53051966@N00/2470...   \n",
       "ff242d10.wav  http://www.flickr.com/videos/27704120@N02/6151...   \n",
       "\n",
       "                                labels       license  \n",
       "fname                                                 \n",
       "40d9de68.wav              Bicycle_bell           NaN  \n",
       "e66309d9.wav              Bicycle_bell           NaN  \n",
       "d1fb51da.wav              Bicycle_bell           NaN  \n",
       "074a72f0.wav              Bicycle_bell           NaN  \n",
       "35badf6d.wav              Bicycle_bell           NaN  \n",
       "...                                ...           ...  \n",
       "fdda6e7d.wav              Bicycle_bell     CC BY 2.0  \n",
       "fdeb319b.wav                       Bus     CC BY 2.0  \n",
       "fe28bb6d.wav              Bicycle_bell     CC BY 2.0  \n",
       "fee6710e.wav                       Bus  CC BY-SA 2.0  \n",
       "ff242d10.wav  Race_car_and_auto_racing     CC BY 2.0  \n",
       "\n",
       "[1556 rows x 3 columns]"
      ]
     },
     "execution_count": 34,
     "metadata": {},
     "output_type": "execute_result"
    }
   ],
   "source": [
    "df"
   ]
  },
  {
   "cell_type": "code",
   "execution_count": 39,
   "metadata": {},
   "outputs": [],
   "source": [
    "def check_data():\n",
    "    if os.path.isfile(config.p_path):\n",
    "        print('Loading existing data for {} model'.format(config.mode))\n",
    "        with open(config.p_path, 'rb') as handle:\n",
    "            tmp = pickle.load(handle)\n",
    "            return tmp \n",
    "    else:\n",
    "        return None"
   ]
  },
  {
   "cell_type": "code",
   "execution_count": 40,
   "metadata": {},
   "outputs": [],
   "source": [
    "def build_rand_feat(df, split):\n",
    "    tmp = check_data()\n",
    "    if not tmp:\n",
    "        tmp = Config()\n",
    "        tmp.data = [None, None, None, None]\n",
    "    if split == 'train' and not tmp.data[0] is None:\n",
    "            return tmp.data[0], tmp.data[1]\n",
    "    elif split == 'test' and not tmp.data[2] is None:\n",
    "            return tmp.data[2], tmp.data[3]\n",
    "    config.data = [None, None, None, None]\n",
    "    X = []\n",
    "    y = []\n",
    "    _min, _max = float('inf'), -float('inf')\n",
    "    print('Building features for '+split)\n",
    "    for _ in tqdm(range(n_samples)):\n",
    "        rand_class = np.random.choice(classes, p=prob_dist)\n",
    "        file = np.random.choice(df[df.labels == rand_class].index)\n",
    "        rate, wav = wavfile.read('clean/'+file)\n",
    "        rand_index = np.random.randint(0, wav.shape[0] - config.step)\n",
    "        sample = wav[rand_index:rand_index + config.step]\n",
    "        if config.feature_type == 'mfccs':\n",
    "            X_sample = mfcc(sample, rate, numcep=config.nfeat,\n",
    "                            nfilt=config.nfilt, nfft = config.nfft)\n",
    "        elif config.feature_type == 'mels':\n",
    "            X_sample = melspectrogram(sample, rate, n_mels=config.n_mels,\n",
    "                                        n_fft=config.nfft)\n",
    "            X_sample = librosa.power_to_db(X_sample)\n",
    "        elif config.feature_type == 'raw':\n",
    "            X_sample = sample\n",
    "        _min = min(np.amin(X_sample), _min)\n",
    "        _max = max(np.amax(X_sample), _max)\n",
    "        X.append(X_sample)\n",
    "        y.append(classes.index(rand_class)) # encoding integer values for classes\n",
    "    config.min = _min\n",
    "    config.max = _max\n",
    "    X, y = np.array(X), np.array(y)\n",
    "    X = (X - _min) / (_max - _min)\n",
    "    X = X.reshape(X.shape[0], X.shape[1], X.shape[2], 1)\n",
    "    y = to_categorical(y)\n",
    "    if split == 'train':\n",
    "        config.data[0], config.data[1] = (X, y)\n",
    "    elif split == 'test':\n",
    "        config.data[2], config.data[3] = (X, y)\n",
    "\n",
    "    with open(config.p_path, 'wb') as handle:\n",
    "        pickle.dump(config, handle, protocol=2)\n",
    "    return X, y"
   ]
  },
  {
   "cell_type": "code",
   "execution_count": 47,
   "metadata": {},
   "outputs": [],
   "source": [
    "cur_df = pd.read_csv('data/train/roadsound_labels.csv', index_col=0)\n",
    "noisy_df = pd.read_csv('data/train_noisy/roadsound_labels.csv', index_col=0)\n",
    "df = pd.concat([cur_df, noisy_df], sort=True)\n",
    "df.set_index('fname', inplace=True)\n",
    "# for f in df.index:\n",
    "#     rate, signal = wavfile.read('clean/'+f)\n",
    "#     df.at[f, 'length'] = signal.shape[0]/rate"
   ]
  },
  {
   "cell_type": "code",
   "execution_count": 48,
   "metadata": {},
   "outputs": [
    {
     "data": {
      "text/html": [
       "<div>\n",
       "<style scoped>\n",
       "    .dataframe tbody tr th:only-of-type {\n",
       "        vertical-align: middle;\n",
       "    }\n",
       "\n",
       "    .dataframe tbody tr th {\n",
       "        vertical-align: top;\n",
       "    }\n",
       "\n",
       "    .dataframe thead th {\n",
       "        text-align: right;\n",
       "    }\n",
       "</style>\n",
       "<table border=\"1\" class=\"dataframe\">\n",
       "  <thead>\n",
       "    <tr style=\"text-align: right;\">\n",
       "      <th></th>\n",
       "      <th>flickr_video_URL</th>\n",
       "      <th>labels</th>\n",
       "      <th>license</th>\n",
       "    </tr>\n",
       "    <tr>\n",
       "      <th>fname</th>\n",
       "      <th></th>\n",
       "      <th></th>\n",
       "      <th></th>\n",
       "    </tr>\n",
       "  </thead>\n",
       "  <tbody>\n",
       "    <tr>\n",
       "      <td>40d9de68.wav</td>\n",
       "      <td>NaN</td>\n",
       "      <td>Bicycle_bell</td>\n",
       "      <td>NaN</td>\n",
       "    </tr>\n",
       "    <tr>\n",
       "      <td>e66309d9.wav</td>\n",
       "      <td>NaN</td>\n",
       "      <td>Bicycle_bell</td>\n",
       "      <td>NaN</td>\n",
       "    </tr>\n",
       "    <tr>\n",
       "      <td>d1fb51da.wav</td>\n",
       "      <td>NaN</td>\n",
       "      <td>Bicycle_bell</td>\n",
       "      <td>NaN</td>\n",
       "    </tr>\n",
       "    <tr>\n",
       "      <td>074a72f0.wav</td>\n",
       "      <td>NaN</td>\n",
       "      <td>Bicycle_bell</td>\n",
       "      <td>NaN</td>\n",
       "    </tr>\n",
       "    <tr>\n",
       "      <td>35badf6d.wav</td>\n",
       "      <td>NaN</td>\n",
       "      <td>Bicycle_bell</td>\n",
       "      <td>NaN</td>\n",
       "    </tr>\n",
       "    <tr>\n",
       "      <td>...</td>\n",
       "      <td>...</td>\n",
       "      <td>...</td>\n",
       "      <td>...</td>\n",
       "    </tr>\n",
       "    <tr>\n",
       "      <td>fdda6e7d.wav</td>\n",
       "      <td>http://www.flickr.com/videos/92996378@N00/7566...</td>\n",
       "      <td>Bicycle_bell</td>\n",
       "      <td>CC BY 2.0</td>\n",
       "    </tr>\n",
       "    <tr>\n",
       "      <td>fdeb319b.wav</td>\n",
       "      <td>http://www.flickr.com/videos/9749756@N06/56971...</td>\n",
       "      <td>Bus</td>\n",
       "      <td>CC BY 2.0</td>\n",
       "    </tr>\n",
       "    <tr>\n",
       "      <td>fe28bb6d.wav</td>\n",
       "      <td>http://www.flickr.com/videos/25921029@N05/4805...</td>\n",
       "      <td>Bicycle_bell</td>\n",
       "      <td>CC BY 2.0</td>\n",
       "    </tr>\n",
       "    <tr>\n",
       "      <td>fee6710e.wav</td>\n",
       "      <td>http://www.flickr.com/videos/53051966@N00/2470...</td>\n",
       "      <td>Bus</td>\n",
       "      <td>CC BY-SA 2.0</td>\n",
       "    </tr>\n",
       "    <tr>\n",
       "      <td>ff242d10.wav</td>\n",
       "      <td>http://www.flickr.com/videos/27704120@N02/6151...</td>\n",
       "      <td>Race_car_and_auto_racing</td>\n",
       "      <td>CC BY 2.0</td>\n",
       "    </tr>\n",
       "  </tbody>\n",
       "</table>\n",
       "<p>1556 rows × 3 columns</p>\n",
       "</div>"
      ],
      "text/plain": [
       "                                               flickr_video_URL  \\\n",
       "fname                                                             \n",
       "40d9de68.wav                                                NaN   \n",
       "e66309d9.wav                                                NaN   \n",
       "d1fb51da.wav                                                NaN   \n",
       "074a72f0.wav                                                NaN   \n",
       "35badf6d.wav                                                NaN   \n",
       "...                                                         ...   \n",
       "fdda6e7d.wav  http://www.flickr.com/videos/92996378@N00/7566...   \n",
       "fdeb319b.wav  http://www.flickr.com/videos/9749756@N06/56971...   \n",
       "fe28bb6d.wav  http://www.flickr.com/videos/25921029@N05/4805...   \n",
       "fee6710e.wav  http://www.flickr.com/videos/53051966@N00/2470...   \n",
       "ff242d10.wav  http://www.flickr.com/videos/27704120@N02/6151...   \n",
       "\n",
       "                                labels       license  \n",
       "fname                                                 \n",
       "40d9de68.wav              Bicycle_bell           NaN  \n",
       "e66309d9.wav              Bicycle_bell           NaN  \n",
       "d1fb51da.wav              Bicycle_bell           NaN  \n",
       "074a72f0.wav              Bicycle_bell           NaN  \n",
       "35badf6d.wav              Bicycle_bell           NaN  \n",
       "...                                ...           ...  \n",
       "fdda6e7d.wav              Bicycle_bell     CC BY 2.0  \n",
       "fdeb319b.wav                       Bus     CC BY 2.0  \n",
       "fe28bb6d.wav              Bicycle_bell     CC BY 2.0  \n",
       "fee6710e.wav                       Bus  CC BY-SA 2.0  \n",
       "ff242d10.wav  Race_car_and_auto_racing     CC BY 2.0  \n",
       "\n",
       "[1556 rows x 3 columns]"
      ]
     },
     "execution_count": 48,
     "metadata": {},
     "output_type": "execute_result"
    }
   ],
   "source": [
    "df"
   ]
  },
  {
   "cell_type": "code",
   "execution_count": 58,
   "metadata": {},
   "outputs": [],
   "source": [
    "f = '13eb02c3.wav'"
   ]
  },
  {
   "cell_type": "code",
   "execution_count": 45,
   "metadata": {},
   "outputs": [
    {
     "ename": "FileNotFoundError",
     "evalue": "[Errno 2] No such file or directory: 'clean/fdda6e7d.wav'",
     "output_type": "error",
     "traceback": [
      "\u001b[0;31m---------------------------------------------------------------------------\u001b[0m",
      "\u001b[0;31mFileNotFoundError\u001b[0m                         Traceback (most recent call last)",
      "\u001b[0;32m<ipython-input-45-04600afec1c1>\u001b[0m in \u001b[0;36m<module>\u001b[0;34m\u001b[0m\n\u001b[0;32m----> 1\u001b[0;31m \u001b[0mrate\u001b[0m\u001b[0;34m,\u001b[0m \u001b[0mwav\u001b[0m \u001b[0;34m=\u001b[0m \u001b[0mwavfile\u001b[0m\u001b[0;34m.\u001b[0m\u001b[0mread\u001b[0m\u001b[0;34m(\u001b[0m\u001b[0;34m'clean/'\u001b[0m\u001b[0;34m+\u001b[0m\u001b[0;34m'fdda6e7d.wav'\u001b[0m\u001b[0;34m)\u001b[0m\u001b[0;34m\u001b[0m\u001b[0;34m\u001b[0m\u001b[0m\n\u001b[0m",
      "\u001b[0;32m~/anaconda3/lib/python3.7/site-packages/scipy/io/wavfile.py\u001b[0m in \u001b[0;36mread\u001b[0;34m(filename, mmap)\u001b[0m\n\u001b[1;32m    262\u001b[0m         \u001b[0mmmap\u001b[0m \u001b[0;34m=\u001b[0m \u001b[0;32mFalse\u001b[0m\u001b[0;34m\u001b[0m\u001b[0;34m\u001b[0m\u001b[0m\n\u001b[1;32m    263\u001b[0m     \u001b[0;32melse\u001b[0m\u001b[0;34m:\u001b[0m\u001b[0;34m\u001b[0m\u001b[0;34m\u001b[0m\u001b[0m\n\u001b[0;32m--> 264\u001b[0;31m         \u001b[0mfid\u001b[0m \u001b[0;34m=\u001b[0m \u001b[0mopen\u001b[0m\u001b[0;34m(\u001b[0m\u001b[0mfilename\u001b[0m\u001b[0;34m,\u001b[0m \u001b[0;34m'rb'\u001b[0m\u001b[0;34m)\u001b[0m\u001b[0;34m\u001b[0m\u001b[0;34m\u001b[0m\u001b[0m\n\u001b[0m\u001b[1;32m    265\u001b[0m \u001b[0;34m\u001b[0m\u001b[0m\n\u001b[1;32m    266\u001b[0m     \u001b[0;32mtry\u001b[0m\u001b[0;34m:\u001b[0m\u001b[0;34m\u001b[0m\u001b[0;34m\u001b[0m\u001b[0m\n",
      "\u001b[0;31mFileNotFoundError\u001b[0m: [Errno 2] No such file or directory: 'clean/fdda6e7d.wav'"
     ]
    }
   ],
   "source": [
    "rate, wav = wavfile.read('clean/'+'fdda6e7d.wav')"
   ]
  },
  {
   "cell_type": "code",
   "execution_count": 53,
   "metadata": {},
   "outputs": [],
   "source": [
    "rand_index = np.random.randint(0, wav.shape[0] - config.step)"
   ]
  },
  {
   "cell_type": "code",
   "execution_count": 54,
   "metadata": {},
   "outputs": [
    {
     "data": {
      "text/plain": [
       "30392"
      ]
     },
     "execution_count": 54,
     "metadata": {},
     "output_type": "execute_result"
    }
   ],
   "source": [
    "rand_index"
   ]
  },
  {
   "cell_type": "code",
   "execution_count": 60,
   "metadata": {},
   "outputs": [],
   "source": [
    "cur_df.set_index('fname', inplace=True)\n",
    "for f in cur_df.index:\n",
    "    rate, signal = wavfile.read('clean/'+f)\n",
    "    cur_df.at[f, 'length'] = signal.shape[0]/rate"
   ]
  },
  {
   "cell_type": "code",
   "execution_count": 62,
   "metadata": {},
   "outputs": [
    {
     "data": {
      "text/plain": [
       "1600"
      ]
     },
     "execution_count": 62,
     "metadata": {},
     "output_type": "execute_result"
    }
   ],
   "source": [
    "config.step"
   ]
  },
  {
   "cell_type": "code",
   "execution_count": 64,
   "metadata": {},
   "outputs": [
    {
     "data": {
      "text/plain": [
       "0.1"
      ]
     },
     "execution_count": 64,
     "metadata": {},
     "output_type": "execute_result"
    }
   ],
   "source": [
    "config.step / rate"
   ]
  },
  {
   "cell_type": "code",
   "execution_count": 63,
   "metadata": {},
   "outputs": [
    {
     "data": {
      "text/html": [
       "<div>\n",
       "<style scoped>\n",
       "    .dataframe tbody tr th:only-of-type {\n",
       "        vertical-align: middle;\n",
       "    }\n",
       "\n",
       "    .dataframe tbody tr th {\n",
       "        vertical-align: top;\n",
       "    }\n",
       "\n",
       "    .dataframe thead th {\n",
       "        text-align: right;\n",
       "    }\n",
       "</style>\n",
       "<table border=\"1\" class=\"dataframe\">\n",
       "  <thead>\n",
       "    <tr style=\"text-align: right;\">\n",
       "      <th></th>\n",
       "      <th>labels</th>\n",
       "      <th>length</th>\n",
       "    </tr>\n",
       "    <tr>\n",
       "      <th>fname</th>\n",
       "      <th></th>\n",
       "      <th></th>\n",
       "    </tr>\n",
       "  </thead>\n",
       "  <tbody>\n",
       "    <tr>\n",
       "      <td>40d9de68.wav</td>\n",
       "      <td>Bicycle_bell</td>\n",
       "      <td>6.895187</td>\n",
       "    </tr>\n",
       "    <tr>\n",
       "      <td>e66309d9.wav</td>\n",
       "      <td>Bicycle_bell</td>\n",
       "      <td>2.144875</td>\n",
       "    </tr>\n",
       "    <tr>\n",
       "      <td>d1fb51da.wav</td>\n",
       "      <td>Bicycle_bell</td>\n",
       "      <td>1.519000</td>\n",
       "    </tr>\n",
       "    <tr>\n",
       "      <td>074a72f0.wav</td>\n",
       "      <td>Bicycle_bell</td>\n",
       "      <td>3.329125</td>\n",
       "    </tr>\n",
       "    <tr>\n",
       "      <td>35badf6d.wav</td>\n",
       "      <td>Bicycle_bell</td>\n",
       "      <td>3.276438</td>\n",
       "    </tr>\n",
       "    <tr>\n",
       "      <td>...</td>\n",
       "      <td>...</td>\n",
       "      <td>...</td>\n",
       "    </tr>\n",
       "    <tr>\n",
       "      <td>8f40eba8.wav</td>\n",
       "      <td>Bus</td>\n",
       "      <td>7.031688</td>\n",
       "    </tr>\n",
       "    <tr>\n",
       "      <td>f95969ec.wav</td>\n",
       "      <td>Bus</td>\n",
       "      <td>7.439750</td>\n",
       "    </tr>\n",
       "    <tr>\n",
       "      <td>f82399ff.wav</td>\n",
       "      <td>Bus</td>\n",
       "      <td>7.585750</td>\n",
       "    </tr>\n",
       "    <tr>\n",
       "      <td>9ad34e6b.wav</td>\n",
       "      <td>Bus</td>\n",
       "      <td>7.220937</td>\n",
       "    </tr>\n",
       "    <tr>\n",
       "      <td>edc6e005.wav</td>\n",
       "      <td>Motorcycle</td>\n",
       "      <td>15.975375</td>\n",
       "    </tr>\n",
       "  </tbody>\n",
       "</table>\n",
       "<p>297 rows × 2 columns</p>\n",
       "</div>"
      ],
      "text/plain": [
       "                    labels     length\n",
       "fname                                \n",
       "40d9de68.wav  Bicycle_bell   6.895187\n",
       "e66309d9.wav  Bicycle_bell   2.144875\n",
       "d1fb51da.wav  Bicycle_bell   1.519000\n",
       "074a72f0.wav  Bicycle_bell   3.329125\n",
       "35badf6d.wav  Bicycle_bell   3.276438\n",
       "...                    ...        ...\n",
       "8f40eba8.wav           Bus   7.031688\n",
       "f95969ec.wav           Bus   7.439750\n",
       "f82399ff.wav           Bus   7.585750\n",
       "9ad34e6b.wav           Bus   7.220937\n",
       "edc6e005.wav    Motorcycle  15.975375\n",
       "\n",
       "[297 rows x 2 columns]"
      ]
     },
     "execution_count": 63,
     "metadata": {},
     "output_type": "execute_result"
    }
   ],
   "source": [
    "cur_df[cur_df.length > config.step / rate]"
   ]
  },
  {
   "cell_type": "code",
   "execution_count": null,
   "metadata": {},
   "outputs": [],
   "source": []
  }
 ],
 "metadata": {
  "kernelspec": {
   "display_name": "Python 3",
   "language": "python",
   "name": "python3"
  },
  "language_info": {
   "codemirror_mode": {
    "name": "ipython",
    "version": 3
   },
   "file_extension": ".py",
   "mimetype": "text/x-python",
   "name": "python",
   "nbconvert_exporter": "python",
   "pygments_lexer": "ipython3",
   "version": "3.7.3"
  }
 },
 "nbformat": 4,
 "nbformat_minor": 2
}
