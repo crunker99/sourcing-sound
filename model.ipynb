{
 "cells": [
  {
   "cell_type": "code",
   "execution_count": 39,
   "metadata": {},
   "outputs": [],
   "source": [
    "import numpy as np\n",
    "import pandas as pd\n",
    "from sklearn.model_selection import train_test_split\n",
    "from sklearn.preprocessing import StandardScaler\n",
    "from sklearn.ensemble import GradientBoostingClassifier\n",
    "from sklearn.cluster import KMeans\n",
    "from sklearn.metrics import accuracy_score, precision_score, precision_recall_curve, recall_score\n"
   ]
  },
  {
   "cell_type": "code",
   "execution_count": 12,
   "metadata": {},
   "outputs": [],
   "source": [
    "df = pd.read_csv('data/train_vectorized.csv', index_col=0)"
   ]
  },
  {
   "cell_type": "code",
   "execution_count": 13,
   "metadata": {},
   "outputs": [],
   "source": [
    "df['purr'] = pd.get_dummies(df)['labels_Purr']"
   ]
  },
  {
   "cell_type": "code",
   "execution_count": 14,
   "metadata": {},
   "outputs": [],
   "source": [
    "y = df['purr'].values"
   ]
  },
  {
   "cell_type": "code",
   "execution_count": 15,
   "metadata": {},
   "outputs": [],
   "source": [
    "X = df.drop(columns=['labels', 'fname', 'purr'])"
   ]
  },
  {
   "cell_type": "code",
   "execution_count": 52,
   "metadata": {},
   "outputs": [
    {
     "data": {
      "text/html": [
       "<div>\n",
       "<style scoped>\n",
       "    .dataframe tbody tr th:only-of-type {\n",
       "        vertical-align: middle;\n",
       "    }\n",
       "\n",
       "    .dataframe tbody tr th {\n",
       "        vertical-align: top;\n",
       "    }\n",
       "\n",
       "    .dataframe thead th {\n",
       "        text-align: right;\n",
       "    }\n",
       "</style>\n",
       "<table border=\"1\" class=\"dataframe\">\n",
       "  <thead>\n",
       "    <tr style=\"text-align: right;\">\n",
       "      <th></th>\n",
       "      <th>mfccs_0</th>\n",
       "      <th>mfccs_1</th>\n",
       "      <th>mfccs_10</th>\n",
       "      <th>mfccs_11</th>\n",
       "      <th>mfccs_12</th>\n",
       "      <th>mfccs_13</th>\n",
       "      <th>mfccs_14</th>\n",
       "      <th>mfccs_15</th>\n",
       "      <th>mfccs_16</th>\n",
       "      <th>mfccs_17</th>\n",
       "      <th>mfccs_18</th>\n",
       "      <th>mfccs_19</th>\n",
       "      <th>mfccs_2</th>\n",
       "      <th>mfccs_3</th>\n",
       "      <th>mfccs_4</th>\n",
       "      <th>mfccs_5</th>\n",
       "      <th>mfccs_6</th>\n",
       "      <th>mfccs_7</th>\n",
       "      <th>mfccs_8</th>\n",
       "      <th>mfccs_9</th>\n",
       "    </tr>\n",
       "  </thead>\n",
       "  <tbody>\n",
       "    <tr>\n",
       "      <td>0</td>\n",
       "      <td>-170.16550</td>\n",
       "      <td>167.432130</td>\n",
       "      <td>-2.061774</td>\n",
       "      <td>5.026933</td>\n",
       "      <td>-0.049025</td>\n",
       "      <td>2.770387</td>\n",
       "      <td>-5.314012</td>\n",
       "      <td>-1.279660</td>\n",
       "      <td>-5.056097</td>\n",
       "      <td>-1.948983</td>\n",
       "      <td>-6.019260</td>\n",
       "      <td>-4.298630</td>\n",
       "      <td>-23.678709</td>\n",
       "      <td>12.000628</td>\n",
       "      <td>-14.134089</td>\n",
       "      <td>10.583515</td>\n",
       "      <td>-7.562870</td>\n",
       "      <td>2.240119</td>\n",
       "      <td>-7.175466</td>\n",
       "      <td>1.272520</td>\n",
       "    </tr>\n",
       "    <tr>\n",
       "      <td>1</td>\n",
       "      <td>-152.37631</td>\n",
       "      <td>-25.576666</td>\n",
       "      <td>-11.079510</td>\n",
       "      <td>-3.962794</td>\n",
       "      <td>1.837924</td>\n",
       "      <td>17.034900</td>\n",
       "      <td>0.900431</td>\n",
       "      <td>-4.194548</td>\n",
       "      <td>-15.471757</td>\n",
       "      <td>-4.778490</td>\n",
       "      <td>-4.762511</td>\n",
       "      <td>4.042096</td>\n",
       "      <td>-39.928910</td>\n",
       "      <td>-3.386590</td>\n",
       "      <td>-14.393668</td>\n",
       "      <td>-4.354677</td>\n",
       "      <td>-12.107390</td>\n",
       "      <td>-0.230222</td>\n",
       "      <td>-10.591919</td>\n",
       "      <td>-0.697682</td>\n",
       "    </tr>\n",
       "    <tr>\n",
       "      <td>2</td>\n",
       "      <td>-430.11172</td>\n",
       "      <td>72.564810</td>\n",
       "      <td>0.556227</td>\n",
       "      <td>10.302031</td>\n",
       "      <td>6.116088</td>\n",
       "      <td>11.280382</td>\n",
       "      <td>2.382419</td>\n",
       "      <td>8.818457</td>\n",
       "      <td>3.780853</td>\n",
       "      <td>6.430060</td>\n",
       "      <td>6.247881</td>\n",
       "      <td>6.210037</td>\n",
       "      <td>0.152407</td>\n",
       "      <td>34.508446</td>\n",
       "      <td>7.403701</td>\n",
       "      <td>20.482264</td>\n",
       "      <td>19.327242</td>\n",
       "      <td>14.715309</td>\n",
       "      <td>8.239096</td>\n",
       "      <td>13.407251</td>\n",
       "    </tr>\n",
       "    <tr>\n",
       "      <td>3</td>\n",
       "      <td>-565.96500</td>\n",
       "      <td>119.060165</td>\n",
       "      <td>3.216105</td>\n",
       "      <td>7.391394</td>\n",
       "      <td>5.467248</td>\n",
       "      <td>5.948758</td>\n",
       "      <td>2.337496</td>\n",
       "      <td>7.763258</td>\n",
       "      <td>6.292786</td>\n",
       "      <td>8.008763</td>\n",
       "      <td>3.908570</td>\n",
       "      <td>7.384831</td>\n",
       "      <td>44.468800</td>\n",
       "      <td>41.266975</td>\n",
       "      <td>25.366888</td>\n",
       "      <td>18.119717</td>\n",
       "      <td>11.444000</td>\n",
       "      <td>8.117064</td>\n",
       "      <td>7.384018</td>\n",
       "      <td>4.840681</td>\n",
       "    </tr>\n",
       "    <tr>\n",
       "      <td>4</td>\n",
       "      <td>-277.48990</td>\n",
       "      <td>129.397230</td>\n",
       "      <td>-9.615869</td>\n",
       "      <td>6.595200</td>\n",
       "      <td>-6.418371</td>\n",
       "      <td>5.103523</td>\n",
       "      <td>2.181881</td>\n",
       "      <td>-10.508094</td>\n",
       "      <td>4.471611</td>\n",
       "      <td>3.558397</td>\n",
       "      <td>-5.224392</td>\n",
       "      <td>-0.659105</td>\n",
       "      <td>21.469280</td>\n",
       "      <td>6.561297</td>\n",
       "      <td>-6.611706</td>\n",
       "      <td>22.031647</td>\n",
       "      <td>9.367394</td>\n",
       "      <td>2.583813</td>\n",
       "      <td>-11.835415</td>\n",
       "      <td>-6.047706</td>\n",
       "    </tr>\n",
       "  </tbody>\n",
       "</table>\n",
       "</div>"
      ],
      "text/plain": [
       "     mfccs_0     mfccs_1   mfccs_10   mfccs_11  mfccs_12   mfccs_13  mfccs_14  \\\n",
       "0 -170.16550  167.432130  -2.061774   5.026933 -0.049025   2.770387 -5.314012   \n",
       "1 -152.37631  -25.576666 -11.079510  -3.962794  1.837924  17.034900  0.900431   \n",
       "2 -430.11172   72.564810   0.556227  10.302031  6.116088  11.280382  2.382419   \n",
       "3 -565.96500  119.060165   3.216105   7.391394  5.467248   5.948758  2.337496   \n",
       "4 -277.48990  129.397230  -9.615869   6.595200 -6.418371   5.103523  2.181881   \n",
       "\n",
       "    mfccs_15   mfccs_16  mfccs_17  mfccs_18  mfccs_19    mfccs_2    mfccs_3  \\\n",
       "0  -1.279660  -5.056097 -1.948983 -6.019260 -4.298630 -23.678709  12.000628   \n",
       "1  -4.194548 -15.471757 -4.778490 -4.762511  4.042096 -39.928910  -3.386590   \n",
       "2   8.818457   3.780853  6.430060  6.247881  6.210037   0.152407  34.508446   \n",
       "3   7.763258   6.292786  8.008763  3.908570  7.384831  44.468800  41.266975   \n",
       "4 -10.508094   4.471611  3.558397 -5.224392 -0.659105  21.469280   6.561297   \n",
       "\n",
       "     mfccs_4    mfccs_5    mfccs_6    mfccs_7    mfccs_8    mfccs_9  \n",
       "0 -14.134089  10.583515  -7.562870   2.240119  -7.175466   1.272520  \n",
       "1 -14.393668  -4.354677 -12.107390  -0.230222 -10.591919  -0.697682  \n",
       "2   7.403701  20.482264  19.327242  14.715309   8.239096  13.407251  \n",
       "3  25.366888  18.119717  11.444000   8.117064   7.384018   4.840681  \n",
       "4  -6.611706  22.031647   9.367394   2.583813 -11.835415  -6.047706  "
      ]
     },
     "execution_count": 52,
     "metadata": {},
     "output_type": "execute_result"
    }
   ],
   "source": [
    "mfcc_cols = [col for col in df.columns if 'mfcc' in col]\n",
    "X = df[mfcc_cols]\n",
    "X.head()"
   ]
  },
  {
   "cell_type": "code",
   "execution_count": 53,
   "metadata": {},
   "outputs": [],
   "source": [
    "X_train, X_test, y_train, y_test = train_test_split(X, y)"
   ]
  },
  {
   "cell_type": "code",
   "execution_count": 54,
   "metadata": {},
   "outputs": [],
   "source": [
    "# scaler = StandardScaler()\n",
    "# X_train = scaler.fit_transform(X_train)\n",
    "# X_test = scaler.fit_transform(X_test)"
   ]
  },
  {
   "cell_type": "code",
   "execution_count": 55,
   "metadata": {},
   "outputs": [
    {
     "data": {
      "text/plain": [
       "GradientBoostingClassifier(criterion='friedman_mse', init=None,\n",
       "                           learning_rate=0.1, loss='deviance', max_depth=3,\n",
       "                           max_features=None, max_leaf_nodes=None,\n",
       "                           min_impurity_decrease=0.0, min_impurity_split=None,\n",
       "                           min_samples_leaf=1, min_samples_split=2,\n",
       "                           min_weight_fraction_leaf=0.0, n_estimators=100,\n",
       "                           n_iter_no_change=None, presort='auto',\n",
       "                           random_state=None, subsample=1.0, tol=0.0001,\n",
       "                           validation_fraction=0.1, verbose=0,\n",
       "                           warm_start=False)"
      ]
     },
     "execution_count": 55,
     "metadata": {},
     "output_type": "execute_result"
    }
   ],
   "source": [
    "gbc = GradientBoostingClassifier()\n",
    "gbc.fit(X_train, y_train)"
   ]
  },
  {
   "cell_type": "code",
   "execution_count": 65,
   "metadata": {},
   "outputs": [],
   "source": [
    "y_preds = gbc.predict(X_test)"
   ]
  },
  {
   "cell_type": "code",
   "execution_count": 66,
   "metadata": {},
   "outputs": [],
   "source": [
    "y_probs = gbc.predict_proba(X_test)"
   ]
  },
  {
   "cell_type": "code",
   "execution_count": 67,
   "metadata": {},
   "outputs": [
    {
     "data": {
      "text/plain": [
       "0.9923469387755102"
      ]
     },
     "execution_count": 67,
     "metadata": {},
     "output_type": "execute_result"
    }
   ],
   "source": [
    "accuracy_score(y_test, y_preds)"
   ]
  },
  {
   "cell_type": "code",
   "execution_count": 68,
   "metadata": {},
   "outputs": [
    {
     "data": {
      "text/plain": [
       "0.5"
      ]
     },
     "execution_count": 68,
     "metadata": {},
     "output_type": "execute_result"
    }
   ],
   "source": [
    "precision_score(y_test, y_preds)"
   ]
  },
  {
   "cell_type": "code",
   "execution_count": 69,
   "metadata": {},
   "outputs": [
    {
     "data": {
      "text/plain": [
       "0.1111111111111111"
      ]
     },
     "execution_count": 69,
     "metadata": {},
     "output_type": "execute_result"
    }
   ],
   "source": [
    "recall_score(y_test, y_preds)"
   ]
  },
  {
   "cell_type": "code",
   "execution_count": null,
   "metadata": {},
   "outputs": [],
   "source": []
  }
 ],
 "metadata": {
  "kernelspec": {
   "display_name": "Python 3",
   "language": "python",
   "name": "python3"
  },
  "language_info": {
   "codemirror_mode": {
    "name": "ipython",
    "version": 3
   },
   "file_extension": ".py",
   "mimetype": "text/x-python",
   "name": "python",
   "nbconvert_exporter": "python",
   "pygments_lexer": "ipython3",
   "version": "3.7.3"
  }
 },
 "nbformat": 4,
 "nbformat_minor": 2
}
