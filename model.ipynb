{
 "cells": [
  {
   "cell_type": "code",
   "execution_count": 37,
   "metadata": {},
   "outputs": [],
   "source": [
    "import numpy as np\n",
    "import pandas as pd\n",
    "from sklearn.model_selection import train_test_split\n",
    "from sklearn.preprocessing import StandardScaler\n",
    "from sklearn.ensemble import GradientBoostingClassifier\n",
    "from sklearn.cluster import KMeans\n",
    "from sklearn.metrics import accuracy_score, precision_score, precision_recall_curve, recall_score, f1_score\n",
    "import matplotlib.pyplot as plt\n",
    "%matplotlib inline\n",
    "import boto3\n",
    "from sklearn.decomposition import PCA"
   ]
  },
  {
   "cell_type": "code",
   "execution_count": 120,
   "metadata": {},
   "outputs": [],
   "source": [
    "def process_vector_df(path):\n",
    "    pass"
   ]
  },
  {
   "cell_type": "code",
   "execution_count": 5,
   "metadata": {},
   "outputs": [],
   "source": [
    "s3_client = boto3.client('s3')\n",
    "bucket_name = 'jarednewstudy'\n",
    "key = 'train_mels_vec.csv'"
   ]
  },
  {
   "cell_type": "code",
   "execution_count": 67,
   "metadata": {},
   "outputs": [],
   "source": [
    "obj = s3_client.get_object(Bucket=bucket_name, Key=key)"
   ]
  },
  {
   "cell_type": "code",
   "execution_count": 68,
   "metadata": {},
   "outputs": [],
   "source": [
    "df = pd.read_csv(obj['Body'])"
   ]
  },
  {
   "cell_type": "code",
   "execution_count": 70,
   "metadata": {},
   "outputs": [],
   "source": [
    "def choose_target(df, target):\n",
    "    \"\"\"\n",
    "    Returns y as ndarray, X as a dataframe\n",
    "    \"\"\"\n",
    "    df[target] = pd.get_dummies(df)['labels_{}'.format(target)]\n",
    "    y = df[target].values\n",
    "    X = df.drop(columns=['Unnamed: 0', 'labels', 'fname', target])\n",
    "    return X, y"
   ]
  },
  {
   "cell_type": "code",
   "execution_count": 91,
   "metadata": {
    "scrolled": true
   },
   "outputs": [],
   "source": [
    "X, y = choose_target(df, 'Purr')"
   ]
  },
  {
   "cell_type": "code",
   "execution_count": 87,
   "metadata": {
    "scrolled": true
   },
   "outputs": [
    {
     "data": {
      "text/plain": [
       "array([1, 1, 1, 1], dtype=uint8)"
      ]
     },
     "execution_count": 87,
     "metadata": {},
     "output_type": "execute_result"
    }
   ],
   "source": [
    "y[y==1]"
   ]
  },
  {
   "cell_type": "code",
   "execution_count": 107,
   "metadata": {},
   "outputs": [
    {
     "data": {
      "text/html": [
       "<div>\n",
       "<style scoped>\n",
       "    .dataframe tbody tr th:only-of-type {\n",
       "        vertical-align: middle;\n",
       "    }\n",
       "\n",
       "    .dataframe tbody tr th {\n",
       "        vertical-align: top;\n",
       "    }\n",
       "\n",
       "    .dataframe thead th {\n",
       "        text-align: right;\n",
       "    }\n",
       "</style>\n",
       "<table border=\"1\" class=\"dataframe\">\n",
       "  <thead>\n",
       "    <tr style=\"text-align: right;\">\n",
       "      <th></th>\n",
       "      <th>0</th>\n",
       "      <th>1</th>\n",
       "      <th>2</th>\n",
       "      <th>3</th>\n",
       "      <th>4</th>\n",
       "      <th>5</th>\n",
       "      <th>6</th>\n",
       "      <th>7</th>\n",
       "      <th>8</th>\n",
       "      <th>9</th>\n",
       "      <th>...</th>\n",
       "      <th>16375</th>\n",
       "      <th>16376</th>\n",
       "      <th>16377</th>\n",
       "      <th>16378</th>\n",
       "      <th>16379</th>\n",
       "      <th>16380</th>\n",
       "      <th>16381</th>\n",
       "      <th>16382</th>\n",
       "      <th>16383</th>\n",
       "      <th>Bark</th>\n",
       "    </tr>\n",
       "  </thead>\n",
       "  <tbody>\n",
       "    <tr>\n",
       "      <td>count</td>\n",
       "      <td>1000.000000</td>\n",
       "      <td>1000.000000</td>\n",
       "      <td>1000.000000</td>\n",
       "      <td>1000.000000</td>\n",
       "      <td>1000.000000</td>\n",
       "      <td>1000.000000</td>\n",
       "      <td>1000.000000</td>\n",
       "      <td>1000.000000</td>\n",
       "      <td>1000.000000</td>\n",
       "      <td>1000.000000</td>\n",
       "      <td>...</td>\n",
       "      <td>1000.000000</td>\n",
       "      <td>1000.000000</td>\n",
       "      <td>1000.000000</td>\n",
       "      <td>1000.000000</td>\n",
       "      <td>1000.000000</td>\n",
       "      <td>1000.000000</td>\n",
       "      <td>1000.000000</td>\n",
       "      <td>1000.000000</td>\n",
       "      <td>1000.000000</td>\n",
       "      <td>1000.000000</td>\n",
       "    </tr>\n",
       "    <tr>\n",
       "      <td>mean</td>\n",
       "      <td>-16.349299</td>\n",
       "      <td>-18.031488</td>\n",
       "      <td>-17.434985</td>\n",
       "      <td>-17.300537</td>\n",
       "      <td>-17.570010</td>\n",
       "      <td>-17.667189</td>\n",
       "      <td>-18.032827</td>\n",
       "      <td>-17.449463</td>\n",
       "      <td>-17.705600</td>\n",
       "      <td>-16.719248</td>\n",
       "      <td>...</td>\n",
       "      <td>-53.872248</td>\n",
       "      <td>-54.715844</td>\n",
       "      <td>-54.467296</td>\n",
       "      <td>-54.514963</td>\n",
       "      <td>-54.475302</td>\n",
       "      <td>-54.406091</td>\n",
       "      <td>-54.392383</td>\n",
       "      <td>-54.082551</td>\n",
       "      <td>-54.034307</td>\n",
       "      <td>0.004000</td>\n",
       "    </tr>\n",
       "    <tr>\n",
       "      <td>std</td>\n",
       "      <td>20.127993</td>\n",
       "      <td>20.688209</td>\n",
       "      <td>20.367240</td>\n",
       "      <td>19.875046</td>\n",
       "      <td>20.854102</td>\n",
       "      <td>20.937940</td>\n",
       "      <td>20.514703</td>\n",
       "      <td>20.464548</td>\n",
       "      <td>20.452823</td>\n",
       "      <td>20.091427</td>\n",
       "      <td>...</td>\n",
       "      <td>12.575905</td>\n",
       "      <td>11.814840</td>\n",
       "      <td>11.998541</td>\n",
       "      <td>12.192558</td>\n",
       "      <td>11.897926</td>\n",
       "      <td>11.906986</td>\n",
       "      <td>11.975822</td>\n",
       "      <td>12.247739</td>\n",
       "      <td>11.965737</td>\n",
       "      <td>0.063151</td>\n",
       "    </tr>\n",
       "    <tr>\n",
       "      <td>min</td>\n",
       "      <td>-86.838570</td>\n",
       "      <td>-93.673386</td>\n",
       "      <td>-84.644859</td>\n",
       "      <td>-73.073288</td>\n",
       "      <td>-82.085945</td>\n",
       "      <td>-82.684784</td>\n",
       "      <td>-81.623718</td>\n",
       "      <td>-80.501129</td>\n",
       "      <td>-82.684784</td>\n",
       "      <td>-82.684784</td>\n",
       "      <td>...</td>\n",
       "      <td>-86.038353</td>\n",
       "      <td>-86.038353</td>\n",
       "      <td>-86.038353</td>\n",
       "      <td>-98.188225</td>\n",
       "      <td>-86.038353</td>\n",
       "      <td>-86.038353</td>\n",
       "      <td>-86.038353</td>\n",
       "      <td>-88.565170</td>\n",
       "      <td>-87.100159</td>\n",
       "      <td>0.000000</td>\n",
       "    </tr>\n",
       "    <tr>\n",
       "      <td>25%</td>\n",
       "      <td>-29.178788</td>\n",
       "      <td>-31.760992</td>\n",
       "      <td>-29.661211</td>\n",
       "      <td>-29.355464</td>\n",
       "      <td>-30.785376</td>\n",
       "      <td>-30.901316</td>\n",
       "      <td>-31.233475</td>\n",
       "      <td>-30.523108</td>\n",
       "      <td>-30.386949</td>\n",
       "      <td>-29.219077</td>\n",
       "      <td>...</td>\n",
       "      <td>-61.786613</td>\n",
       "      <td>-62.226665</td>\n",
       "      <td>-62.337007</td>\n",
       "      <td>-62.346794</td>\n",
       "      <td>-62.325818</td>\n",
       "      <td>-62.276100</td>\n",
       "      <td>-62.276100</td>\n",
       "      <td>-61.809067</td>\n",
       "      <td>-61.838096</td>\n",
       "      <td>0.000000</td>\n",
       "    </tr>\n",
       "    <tr>\n",
       "      <td>50%</td>\n",
       "      <td>-14.907685</td>\n",
       "      <td>-16.178761</td>\n",
       "      <td>-15.187243</td>\n",
       "      <td>-15.675508</td>\n",
       "      <td>-15.648202</td>\n",
       "      <td>-14.970316</td>\n",
       "      <td>-15.598800</td>\n",
       "      <td>-15.420786</td>\n",
       "      <td>-15.892051</td>\n",
       "      <td>-14.594942</td>\n",
       "      <td>...</td>\n",
       "      <td>-54.025717</td>\n",
       "      <td>-54.517656</td>\n",
       "      <td>-54.192310</td>\n",
       "      <td>-54.426260</td>\n",
       "      <td>-54.097078</td>\n",
       "      <td>-54.230137</td>\n",
       "      <td>-54.210979</td>\n",
       "      <td>-53.630930</td>\n",
       "      <td>-53.744453</td>\n",
       "      <td>0.000000</td>\n",
       "    </tr>\n",
       "    <tr>\n",
       "      <td>75%</td>\n",
       "      <td>-2.247474</td>\n",
       "      <td>-4.087688</td>\n",
       "      <td>-3.802814</td>\n",
       "      <td>-4.690444</td>\n",
       "      <td>-2.832629</td>\n",
       "      <td>-3.688863</td>\n",
       "      <td>-3.928626</td>\n",
       "      <td>-3.223348</td>\n",
       "      <td>-3.495781</td>\n",
       "      <td>-3.097138</td>\n",
       "      <td>...</td>\n",
       "      <td>-46.829165</td>\n",
       "      <td>-47.249040</td>\n",
       "      <td>-47.085740</td>\n",
       "      <td>-47.133106</td>\n",
       "      <td>-46.901263</td>\n",
       "      <td>-47.075775</td>\n",
       "      <td>-47.252785</td>\n",
       "      <td>-46.903483</td>\n",
       "      <td>-46.476848</td>\n",
       "      <td>0.000000</td>\n",
       "    </tr>\n",
       "    <tr>\n",
       "      <td>max</td>\n",
       "      <td>37.634338</td>\n",
       "      <td>36.299622</td>\n",
       "      <td>37.215313</td>\n",
       "      <td>35.153126</td>\n",
       "      <td>35.357887</td>\n",
       "      <td>37.711174</td>\n",
       "      <td>35.847908</td>\n",
       "      <td>37.507835</td>\n",
       "      <td>39.096722</td>\n",
       "      <td>39.171272</td>\n",
       "      <td>...</td>\n",
       "      <td>0.000000</td>\n",
       "      <td>0.000000</td>\n",
       "      <td>0.841981</td>\n",
       "      <td>0.000000</td>\n",
       "      <td>0.000000</td>\n",
       "      <td>0.000000</td>\n",
       "      <td>0.000000</td>\n",
       "      <td>0.871323</td>\n",
       "      <td>0.000000</td>\n",
       "      <td>1.000000</td>\n",
       "    </tr>\n",
       "  </tbody>\n",
       "</table>\n",
       "<p>8 rows × 16385 columns</p>\n",
       "</div>"
      ],
      "text/plain": [
       "                 0            1            2            3            4  \\\n",
       "count  1000.000000  1000.000000  1000.000000  1000.000000  1000.000000   \n",
       "mean    -16.349299   -18.031488   -17.434985   -17.300537   -17.570010   \n",
       "std      20.127993    20.688209    20.367240    19.875046    20.854102   \n",
       "min     -86.838570   -93.673386   -84.644859   -73.073288   -82.085945   \n",
       "25%     -29.178788   -31.760992   -29.661211   -29.355464   -30.785376   \n",
       "50%     -14.907685   -16.178761   -15.187243   -15.675508   -15.648202   \n",
       "75%      -2.247474    -4.087688    -3.802814    -4.690444    -2.832629   \n",
       "max      37.634338    36.299622    37.215313    35.153126    35.357887   \n",
       "\n",
       "                 5            6            7            8            9  ...  \\\n",
       "count  1000.000000  1000.000000  1000.000000  1000.000000  1000.000000  ...   \n",
       "mean    -17.667189   -18.032827   -17.449463   -17.705600   -16.719248  ...   \n",
       "std      20.937940    20.514703    20.464548    20.452823    20.091427  ...   \n",
       "min     -82.684784   -81.623718   -80.501129   -82.684784   -82.684784  ...   \n",
       "25%     -30.901316   -31.233475   -30.523108   -30.386949   -29.219077  ...   \n",
       "50%     -14.970316   -15.598800   -15.420786   -15.892051   -14.594942  ...   \n",
       "75%      -3.688863    -3.928626    -3.223348    -3.495781    -3.097138  ...   \n",
       "max      37.711174    35.847908    37.507835    39.096722    39.171272  ...   \n",
       "\n",
       "             16375        16376        16377        16378        16379  \\\n",
       "count  1000.000000  1000.000000  1000.000000  1000.000000  1000.000000   \n",
       "mean    -53.872248   -54.715844   -54.467296   -54.514963   -54.475302   \n",
       "std      12.575905    11.814840    11.998541    12.192558    11.897926   \n",
       "min     -86.038353   -86.038353   -86.038353   -98.188225   -86.038353   \n",
       "25%     -61.786613   -62.226665   -62.337007   -62.346794   -62.325818   \n",
       "50%     -54.025717   -54.517656   -54.192310   -54.426260   -54.097078   \n",
       "75%     -46.829165   -47.249040   -47.085740   -47.133106   -46.901263   \n",
       "max       0.000000     0.000000     0.841981     0.000000     0.000000   \n",
       "\n",
       "             16380        16381        16382        16383         Bark  \n",
       "count  1000.000000  1000.000000  1000.000000  1000.000000  1000.000000  \n",
       "mean    -54.406091   -54.392383   -54.082551   -54.034307     0.004000  \n",
       "std      11.906986    11.975822    12.247739    11.965737     0.063151  \n",
       "min     -86.038353   -86.038353   -88.565170   -87.100159     0.000000  \n",
       "25%     -62.276100   -62.276100   -61.809067   -61.838096     0.000000  \n",
       "50%     -54.230137   -54.210979   -53.630930   -53.744453     0.000000  \n",
       "75%     -47.075775   -47.252785   -46.903483   -46.476848     0.000000  \n",
       "max       0.000000     0.000000     0.871323     0.000000     1.000000  \n",
       "\n",
       "[8 rows x 16385 columns]"
      ]
     },
     "execution_count": 107,
     "metadata": {},
     "output_type": "execute_result"
    }
   ],
   "source": [
    "X.describe()"
   ]
  },
  {
   "cell_type": "code",
   "execution_count": 117,
   "metadata": {},
   "outputs": [],
   "source": [
    "X_train, X_test, y_train, y_test = train_test_split(X, y)"
   ]
  },
  {
   "cell_type": "code",
   "execution_count": 103,
   "metadata": {},
   "outputs": [
    {
     "data": {
      "text/plain": [
       "array([1, 1, 1, 1, 1, 1, 1, 1, 1, 1, 1, 1, 1, 1, 1], dtype=uint8)"
      ]
     },
     "execution_count": 103,
     "metadata": {},
     "output_type": "execute_result"
    }
   ],
   "source": [
    "y_train[y_train==1]"
   ]
  },
  {
   "cell_type": "code",
   "execution_count": 118,
   "metadata": {},
   "outputs": [],
   "source": [
    "scaler = StandardScaler()\n",
    "X_train = scaler.fit_transform(X_train)\n",
    "X_test = scaler.transform(X_test)"
   ]
  },
  {
   "cell_type": "code",
   "execution_count": 95,
   "metadata": {
    "scrolled": false
   },
   "outputs": [
    {
     "name": "stdout",
     "output_type": "stream",
     "text": [
      "      Iter       Train Loss   Remaining Time \n",
      "         1           0.1811           39.76s\n",
      "         2           0.1729           40.38s\n",
      "         3           0.1705           40.13s\n",
      "         4           0.1676           40.13s\n",
      "         5           0.1662           40.26s\n",
      "         6           0.1647           40.51s\n",
      "         7           0.1612           40.52s\n",
      "         8           0.1447           41.72s\n",
      "         9           0.1293           42.58s\n",
      "        10           0.1214           43.10s\n",
      "        20           0.0744           43.12s\n",
      "        30           0.0517           41.76s\n",
      "        40           0.0377           40.42s\n",
      "        50           0.0282           37.78s\n",
      "        60           0.0222           35.15s\n",
      "        70           0.0182           32.33s\n",
      "        80           0.0141           30.02s\n",
      "        90           0.0117           27.52s\n",
      "       100           0.0094           25.10s\n",
      "       200           0.0015            0.00s\n"
     ]
    },
    {
     "data": {
      "text/plain": [
       "GradientBoostingClassifier(criterion='friedman_mse', init=None,\n",
       "                           learning_rate=0.05, loss='deviance', max_depth=3,\n",
       "                           max_features=5000, max_leaf_nodes=None,\n",
       "                           min_impurity_decrease=0.0, min_impurity_split=None,\n",
       "                           min_samples_leaf=1, min_samples_split=2,\n",
       "                           min_weight_fraction_leaf=0.0, n_estimators=200,\n",
       "                           n_iter_no_change=None, presort='auto',\n",
       "                           random_state=8, subsample=1.0, tol=0.0001,\n",
       "                           validation_fraction=0.1, verbose=1,\n",
       "                           warm_start=False)"
      ]
     },
     "execution_count": 95,
     "metadata": {},
     "output_type": "execute_result"
    }
   ],
   "source": [
    "gbc = GradientBoostingClassifier(learning_rate=0.05,\n",
    "                                n_estimators=200,\n",
    "                                max_features=5000,\n",
    "                                 random_state=8,\n",
    "                                 verbose=1\n",
    "                                )\n",
    "gbc.fit(X_train, y_train)"
   ]
  },
  {
   "cell_type": "code",
   "execution_count": 96,
   "metadata": {},
   "outputs": [],
   "source": [
    "y_preds = gbc.predict(X_test)"
   ]
  },
  {
   "cell_type": "code",
   "execution_count": 97,
   "metadata": {},
   "outputs": [],
   "source": [
    "y_probs = gbc.predict_proba(X_test)"
   ]
  },
  {
   "cell_type": "code",
   "execution_count": 98,
   "metadata": {},
   "outputs": [
    {
     "name": "stderr",
     "output_type": "stream",
     "text": [
      "/Users/jared/anaconda3/lib/python3.7/site-packages/sklearn/metrics/classification.py:1437: UndefinedMetricWarning: Precision is ill-defined and being set to 0.0 due to no predicted samples.\n",
      "  'precision', 'predicted', average, warn_for)\n",
      "/Users/jared/anaconda3/lib/python3.7/site-packages/sklearn/metrics/classification.py:1437: UndefinedMetricWarning: F-score is ill-defined and being set to 0.0 due to no predicted samples.\n",
      "  'precision', 'predicted', average, warn_for)\n"
     ]
    }
   ],
   "source": [
    "acc = accuracy_score(y_test, y_preds)\n",
    "prec = precision_score(y_test, y_preds)\n",
    "rec = recall_score(y_test, y_preds)\n",
    "f1 = f1_score(y_test, y_preds)"
   ]
  },
  {
   "cell_type": "code",
   "execution_count": 102,
   "metadata": {},
   "outputs": [
    {
     "data": {
      "text/plain": [
       "0.0"
      ]
     },
     "execution_count": 102,
     "metadata": {},
     "output_type": "execute_result"
    }
   ],
   "source": [
    "f1"
   ]
  },
  {
   "cell_type": "code",
   "execution_count": null,
   "metadata": {},
   "outputs": [],
   "source": [
    "print('accuracy:')"
   ]
  },
  {
   "cell_type": "code",
   "execution_count": 82,
   "metadata": {
    "scrolled": true
   },
   "outputs": [
    {
     "data": {
      "text/plain": [
       "array([], dtype=uint8)"
      ]
     },
     "execution_count": 82,
     "metadata": {},
     "output_type": "execute_result"
    }
   ],
   "source": [
    "y_preds[y_preds==1]"
   ]
  },
  {
   "cell_type": "code",
   "execution_count": 80,
   "metadata": {},
   "outputs": [
    {
     "data": {
      "text/plain": [
       "0.0"
      ]
     },
     "execution_count": 80,
     "metadata": {},
     "output_type": "execute_result"
    }
   ],
   "source": [
    "f1"
   ]
  },
  {
   "cell_type": "markdown",
   "metadata": {},
   "source": [
    "## PCA"
   ]
  },
  {
   "cell_type": "code",
   "execution_count": 128,
   "metadata": {},
   "outputs": [],
   "source": [
    "pca = PCA(n_components=100)\n",
    "pca.fit(X_train)\n",
    "X_pca = pca.transform(X_train)"
   ]
  },
  {
   "cell_type": "code",
   "execution_count": 129,
   "metadata": {},
   "outputs": [],
   "source": [
    "def scree_plot(ax, pca, n_components_to_plot=100, title=None):\n",
    "    \"\"\"Make a scree plot showing the variance explained (i.e. varaince of the projections) for the principal components in a fit sklearn PCA object.\n",
    "    \n",
    "    Parameters\n",
    "    ----------\n",
    "    ax: matplotlib.axis object\n",
    "      The axis to make the scree plot on.\n",
    "      \n",
    "    pca: sklearn.decomposition.PCA object.\n",
    "      A fit PCA object.\n",
    "      \n",
    "    n_components_to_plot: int\n",
    "      The number of principal components to display in the skree plot.\n",
    "      \n",
    "    title: str\n",
    "      A title for the skree plot.\n",
    "    \"\"\"\n",
    "    num_components = pca.n_components_\n",
    "    ind = np.arange(num_components)\n",
    "    vals = pca.explained_variance_ratio_\n",
    "    ax.plot(ind, vals, color='blue')\n",
    "    ax.scatter(ind, vals, color='blue', s=50)\n",
    "\n",
    "    for i in range(num_components):\n",
    "        ax.annotate(r\"{:2.2f}%\".format(vals[i]), \n",
    "                   (ind[i]+0.2, vals[i]+0.005), \n",
    "                   va=\"bottom\", \n",
    "                   ha=\"center\", \n",
    "                   fontsize=12)\n",
    "\n",
    "    ax.set_xticklabels(ind, fontsize=12)\n",
    "    ax.set_ylim(0, max(vals) + 0.05)\n",
    "    ax.set_xlim(0 - 0.45, n_components_to_plot + 0.45)\n",
    "    ax.set_xlabel(\"Principal Component\", fontsize=12)\n",
    "    ax.set_ylabel(\"Variance Explained (%)\", fontsize=12)\n",
    "    if title is not None:\n",
    "        ax.set_title(title, fontsize=16)\n"
   ]
  },
  {
   "cell_type": "code",
   "execution_count": 130,
   "metadata": {
    "scrolled": false
   },
   "outputs": [
    {
     "data": {
      "image/png": "[encoded data removed]",
      "text/plain": [
       "<Figure size 720x432 with 1 Axes>"
      ]
     },
     "metadata": {
      "needs_background": "light"
     },
     "output_type": "display_data"
    }
   ],
   "source": [
    "fig, ax = plt.subplots(figsize=(10, 6))\n",
    "scree_plot(ax, pca, title=\"Scree Plot for Digits Principal Components\")"
   ]
  },
  {
   "cell_type": "code",
   "execution_count": null,
   "metadata": {},
   "outputs": [],
   "source": []
  },
  {
   "cell_type": "code",
   "execution_count": null,
   "metadata": {},
   "outputs": [],
   "source": []
  },
  {
   "cell_type": "code",
   "execution_count": null,
   "metadata": {},
   "outputs": [],
   "source": []
  },
  {
   "cell_type": "code",
   "execution_count": null,
   "metadata": {},
   "outputs": [],
   "source": []
  }
 ],
 "metadata": {
  "kernelspec": {
   "display_name": "Python 3",
   "language": "python",
   "name": "python3"
  },
  "language_info": {
   "codemirror_mode": {
    "name": "ipython",
    "version": 3
   },
   "file_extension": ".py",
   "mimetype": "text/x-python",
   "name": "python",
   "nbconvert_exporter": "python",
   "pygments_lexer": "ipython3",
   "version": "3.7.3"
  }
 },
 "nbformat": 4,
 "nbformat_minor": 2
}
