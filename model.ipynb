{
 "cells": [
  {
   "cell_type": "code",
   "execution_count": 2,
   "metadata": {},
   "outputs": [],
   "source": [
    "import numpy as np\n",
    "import pandas as pd\n",
    "from sklearn.model_selection import train_test_split, KFold\n",
    "from sklearn.preprocessing import StandardScaler\n",
    "from sklearn.ensemble import GradientBoostingClassifier, RandomForestClassifier\n",
    "from sklearn.linear_model import LogisticRegression\n",
    "from sklearn.cluster import KMeans\n",
    "from sklearn.metrics import accuracy_score, precision_score, precision_recall_curve, recall_score, f1_score, confusion_matrix\n",
    "import matplotlib.pyplot as plt\n",
    "%matplotlib inline\n",
    "import boto3\n",
    "from sklearn.decomposition import PCA\n",
    "from imblearn.over_sampling import SMOTE\n",
    "from sklearn.utils import resample\n",
    "from joblib import dump, load"
   ]
  },
  {
   "cell_type": "code",
   "execution_count": 3,
   "metadata": {},
   "outputs": [],
   "source": [
    "s3_client = boto3.client('s3')\n",
    "bucket_name = 'jarednewstudy'\n",
    "key = 'train_mels_vec.csv'"
   ]
  },
  {
   "cell_type": "code",
   "execution_count": 4,
   "metadata": {},
   "outputs": [],
   "source": [
    "obj = s3_client.get_object(Bucket=bucket_name, Key=key)"
   ]
  },
  {
   "cell_type": "code",
   "execution_count": 8,
   "metadata": {},
   "outputs": [],
   "source": [
    "# df = pd.read_csv(obj['Body'])"
   ]
  },
  {
   "cell_type": "code",
   "execution_count": 9,
   "metadata": {},
   "outputs": [],
   "source": [
    "# tp = pd.read_csv(obj['Body'], iterator=True, chunksize=1000) "
   ]
  },
  {
   "cell_type": "code",
   "execution_count": 5,
   "metadata": {
    "scrolled": true
   },
   "outputs": [],
   "source": [
    "df = pd.read_csv('data/train_windows_mel.csv', index_col=0)"
   ]
  },
  {
   "cell_type": "code",
   "execution_count": 6,
   "metadata": {},
   "outputs": [
    {
     "data": {
      "text/html": [
       "<div>\n",
       "<style scoped>\n",
       "    .dataframe tbody tr th:only-of-type {\n",
       "        vertical-align: middle;\n",
       "    }\n",
       "\n",
       "    .dataframe tbody tr th {\n",
       "        vertical-align: top;\n",
       "    }\n",
       "\n",
       "    .dataframe thead th {\n",
       "        text-align: right;\n",
       "    }\n",
       "</style>\n",
       "<table border=\"1\" class=\"dataframe\">\n",
       "  <thead>\n",
       "    <tr style=\"text-align: right;\">\n",
       "      <th></th>\n",
       "      <th>0</th>\n",
       "      <th>1</th>\n",
       "      <th>2</th>\n",
       "      <th>3</th>\n",
       "      <th>4</th>\n",
       "      <th>5</th>\n",
       "      <th>6</th>\n",
       "      <th>7</th>\n",
       "      <th>8</th>\n",
       "      <th>9</th>\n",
       "      <th>...</th>\n",
       "      <th>12891</th>\n",
       "      <th>12892</th>\n",
       "      <th>12893</th>\n",
       "      <th>12894</th>\n",
       "      <th>12895</th>\n",
       "      <th>12896</th>\n",
       "      <th>12897</th>\n",
       "      <th>12898</th>\n",
       "      <th>12899</th>\n",
       "      <th>labels</th>\n",
       "    </tr>\n",
       "  </thead>\n",
       "  <tbody>\n",
       "    <tr>\n",
       "      <td>ac9e7a91.wav</td>\n",
       "      <td>(0.8720727-0.55586475j)</td>\n",
       "      <td>(0.97243+0.47310236j)</td>\n",
       "      <td>(1.1108465-0.5037104j)</td>\n",
       "      <td>(0.9333715-0.46517918j)</td>\n",
       "      <td>(1.0634736-0.47932836j)</td>\n",
       "      <td>(1.1580651+0.045449547j)</td>\n",
       "      <td>(1.1319557+0.5294742j)</td>\n",
       "      <td>(1.1067612-0.18195131j)</td>\n",
       "      <td>(1.1150475+0.105091475j)</td>\n",
       "      <td>(1.0884783+0.49223566j)</td>\n",
       "      <td>...</td>\n",
       "      <td>(-1.7656741+0.0027507467j)</td>\n",
       "      <td>(-1.7656741+0.0027507467j)</td>\n",
       "      <td>(-1.7656741+0.0027507467j)</td>\n",
       "      <td>(-1.7656741+0.0027507467j)</td>\n",
       "      <td>(-1.7656741+0.0027507467j)</td>\n",
       "      <td>(-1.7656741+0.0027507467j)</td>\n",
       "      <td>(-1.7656741+0.0027507467j)</td>\n",
       "      <td>(-1.7656741+0.0027507467j)</td>\n",
       "      <td>(-1.7656741+0.0027507467j)</td>\n",
       "      <td>Church_bell</td>\n",
       "    </tr>\n",
       "    <tr>\n",
       "      <td>ac9e7a91.wav</td>\n",
       "      <td>(1.1620889-0.40256172j)</td>\n",
       "      <td>(0.8195885+0.22436227j)</td>\n",
       "      <td>(1.1583741+0.18477306j)</td>\n",
       "      <td>(0.92741376-0.30937093j)</td>\n",
       "      <td>(1.1496263-0.34877148j)</td>\n",
       "      <td>(0.9815187+0.3381944j)</td>\n",
       "      <td>(0.78291595+0.53184026j)</td>\n",
       "      <td>(1.0595443-0.21048172j)</td>\n",
       "      <td>(1.0112655-0.4128221j)</td>\n",
       "      <td>(1.0171237+0.21520227j)</td>\n",
       "      <td>...</td>\n",
       "      <td>(-1.7668371+0.001747158j)</td>\n",
       "      <td>(-1.7668371+0.001747158j)</td>\n",
       "      <td>(-1.7668371+0.001747158j)</td>\n",
       "      <td>(-1.7668371+0.001747158j)</td>\n",
       "      <td>(-1.7668371+0.001747158j)</td>\n",
       "      <td>(-1.7668371+0.001747158j)</td>\n",
       "      <td>(-1.7668371+0.001747158j)</td>\n",
       "      <td>(-1.7668371+0.001747158j)</td>\n",
       "      <td>(-1.7668371+0.001747158j)</td>\n",
       "      <td>Church_bell</td>\n",
       "    </tr>\n",
       "    <tr>\n",
       "      <td>ac9e7a91.wav</td>\n",
       "      <td>(1.0819808-0.38528323j)</td>\n",
       "      <td>(0.89443386-0.37575608j)</td>\n",
       "      <td>(0.8043155+0.07030975j)</td>\n",
       "      <td>(1.1942259-0.12525356j)</td>\n",
       "      <td>(1.2379514+0.26573363j)</td>\n",
       "      <td>(1.0011575-0.5430332j)</td>\n",
       "      <td>(0.88896024+0.033864737j)</td>\n",
       "      <td>(0.92523164-0.02095847j)</td>\n",
       "      <td>(0.95133233-0.5035442j)</td>\n",
       "      <td>(1.0703399+0.05758296j)</td>\n",
       "      <td>...</td>\n",
       "      <td>(-1.7560852-0.00046687393j)</td>\n",
       "      <td>(-1.7560852-0.00046687393j)</td>\n",
       "      <td>(-1.7560852-0.00046687393j)</td>\n",
       "      <td>(-1.7560852-0.00046687393j)</td>\n",
       "      <td>(-1.7560852-0.00046687393j)</td>\n",
       "      <td>(-1.7560852-0.00046687393j)</td>\n",
       "      <td>(-1.7560852-0.00046687393j)</td>\n",
       "      <td>(-1.7560852-0.00046687393j)</td>\n",
       "      <td>(-1.7560852-0.00046687393j)</td>\n",
       "      <td>Church_bell</td>\n",
       "    </tr>\n",
       "    <tr>\n",
       "      <td>ac9e7a91.wav</td>\n",
       "      <td>(1.1904478-0.13529912j)</td>\n",
       "      <td>(0.56683093-0.3350452j)</td>\n",
       "      <td>(1.1070894+0.41009906j)</td>\n",
       "      <td>(1.0396317+0.028394233j)</td>\n",
       "      <td>(1.0836594-0.3218837j)</td>\n",
       "      <td>(0.86174834+0.39389622j)</td>\n",
       "      <td>(1.0672377+0.19966662j)</td>\n",
       "      <td>(1.067286-0.15885366j)</td>\n",
       "      <td>(1.0418937+0.3230034j)</td>\n",
       "      <td>(1.0345826+0.2587691j)</td>\n",
       "      <td>...</td>\n",
       "      <td>(-1.7456528+0.0003073491j)</td>\n",
       "      <td>(-1.7456528+0.0003073491j)</td>\n",
       "      <td>(-1.7456528+0.0003073491j)</td>\n",
       "      <td>(-1.7456528+0.0003073491j)</td>\n",
       "      <td>(-1.7456528+0.0003073491j)</td>\n",
       "      <td>(-1.7456528+0.0003073491j)</td>\n",
       "      <td>(-1.7456528+0.0003073491j)</td>\n",
       "      <td>(-1.7456528+0.0003073491j)</td>\n",
       "      <td>(-1.7456528+0.0003073491j)</td>\n",
       "      <td>Church_bell</td>\n",
       "    </tr>\n",
       "    <tr>\n",
       "      <td>65ae847e.wav</td>\n",
       "      <td>(0.28678146+0.001967726j)</td>\n",
       "      <td>(0.46207947+0.16326383j)</td>\n",
       "      <td>(0.5549207+0.58711433j)</td>\n",
       "      <td>(0.48897272-0.24187677j)</td>\n",
       "      <td>(0.4599209+0.25361636j)</td>\n",
       "      <td>(0.5127542-0.56587243j)</td>\n",
       "      <td>(0.5938512-0.25957084j)</td>\n",
       "      <td>(0.5694763+0.13295428j)</td>\n",
       "      <td>(0.5385659+0.62069625j)</td>\n",
       "      <td>(0.58470094-0.2750396j)</td>\n",
       "      <td>...</td>\n",
       "      <td>(-2.0571358+0.001967726j)</td>\n",
       "      <td>(-2.0571358+0.001967726j)</td>\n",
       "      <td>(-2.0571358+0.001967726j)</td>\n",
       "      <td>(-2.0571358+0.001967726j)</td>\n",
       "      <td>(-2.0571358+0.001967726j)</td>\n",
       "      <td>(-2.0571358+0.001967726j)</td>\n",
       "      <td>(-2.0571358+0.001967726j)</td>\n",
       "      <td>(-2.0571358+0.001967726j)</td>\n",
       "      <td>(-2.0571358+0.001967726j)</td>\n",
       "      <td>Frying_(food)</td>\n",
       "    </tr>\n",
       "  </tbody>\n",
       "</table>\n",
       "<p>5 rows × 12901 columns</p>\n",
       "</div>"
      ],
      "text/plain": [
       "                                      0                         1  \\\n",
       "ac9e7a91.wav    (0.8720727-0.55586475j)     (0.97243+0.47310236j)   \n",
       "ac9e7a91.wav    (1.1620889-0.40256172j)   (0.8195885+0.22436227j)   \n",
       "ac9e7a91.wav    (1.0819808-0.38528323j)  (0.89443386-0.37575608j)   \n",
       "ac9e7a91.wav    (1.1904478-0.13529912j)   (0.56683093-0.3350452j)   \n",
       "65ae847e.wav  (0.28678146+0.001967726j)  (0.46207947+0.16326383j)   \n",
       "\n",
       "                                    2                         3  \\\n",
       "ac9e7a91.wav   (1.1108465-0.5037104j)   (0.9333715-0.46517918j)   \n",
       "ac9e7a91.wav  (1.1583741+0.18477306j)  (0.92741376-0.30937093j)   \n",
       "ac9e7a91.wav  (0.8043155+0.07030975j)   (1.1942259-0.12525356j)   \n",
       "ac9e7a91.wav  (1.1070894+0.41009906j)  (1.0396317+0.028394233j)   \n",
       "65ae847e.wav  (0.5549207+0.58711433j)  (0.48897272-0.24187677j)   \n",
       "\n",
       "                                    4                         5  \\\n",
       "ac9e7a91.wav  (1.0634736-0.47932836j)  (1.1580651+0.045449547j)   \n",
       "ac9e7a91.wav  (1.1496263-0.34877148j)    (0.9815187+0.3381944j)   \n",
       "ac9e7a91.wav  (1.2379514+0.26573363j)    (1.0011575-0.5430332j)   \n",
       "ac9e7a91.wav   (1.0836594-0.3218837j)  (0.86174834+0.39389622j)   \n",
       "65ae847e.wav  (0.4599209+0.25361636j)   (0.5127542-0.56587243j)   \n",
       "\n",
       "                                      6                         7  \\\n",
       "ac9e7a91.wav     (1.1319557+0.5294742j)   (1.1067612-0.18195131j)   \n",
       "ac9e7a91.wav   (0.78291595+0.53184026j)   (1.0595443-0.21048172j)   \n",
       "ac9e7a91.wav  (0.88896024+0.033864737j)  (0.92523164-0.02095847j)   \n",
       "ac9e7a91.wav    (1.0672377+0.19966662j)    (1.067286-0.15885366j)   \n",
       "65ae847e.wav    (0.5938512-0.25957084j)   (0.5694763+0.13295428j)   \n",
       "\n",
       "                                     8                        9  ...  \\\n",
       "ac9e7a91.wav  (1.1150475+0.105091475j)  (1.0884783+0.49223566j)  ...   \n",
       "ac9e7a91.wav    (1.0112655-0.4128221j)  (1.0171237+0.21520227j)  ...   \n",
       "ac9e7a91.wav   (0.95133233-0.5035442j)  (1.0703399+0.05758296j)  ...   \n",
       "ac9e7a91.wav    (1.0418937+0.3230034j)   (1.0345826+0.2587691j)  ...   \n",
       "65ae847e.wav   (0.5385659+0.62069625j)  (0.58470094-0.2750396j)  ...   \n",
       "\n",
       "                                    12891                        12892  \\\n",
       "ac9e7a91.wav   (-1.7656741+0.0027507467j)   (-1.7656741+0.0027507467j)   \n",
       "ac9e7a91.wav    (-1.7668371+0.001747158j)    (-1.7668371+0.001747158j)   \n",
       "ac9e7a91.wav  (-1.7560852-0.00046687393j)  (-1.7560852-0.00046687393j)   \n",
       "ac9e7a91.wav   (-1.7456528+0.0003073491j)   (-1.7456528+0.0003073491j)   \n",
       "65ae847e.wav    (-2.0571358+0.001967726j)    (-2.0571358+0.001967726j)   \n",
       "\n",
       "                                    12893                        12894  \\\n",
       "ac9e7a91.wav   (-1.7656741+0.0027507467j)   (-1.7656741+0.0027507467j)   \n",
       "ac9e7a91.wav    (-1.7668371+0.001747158j)    (-1.7668371+0.001747158j)   \n",
       "ac9e7a91.wav  (-1.7560852-0.00046687393j)  (-1.7560852-0.00046687393j)   \n",
       "ac9e7a91.wav   (-1.7456528+0.0003073491j)   (-1.7456528+0.0003073491j)   \n",
       "65ae847e.wav    (-2.0571358+0.001967726j)    (-2.0571358+0.001967726j)   \n",
       "\n",
       "                                    12895                        12896  \\\n",
       "ac9e7a91.wav   (-1.7656741+0.0027507467j)   (-1.7656741+0.0027507467j)   \n",
       "ac9e7a91.wav    (-1.7668371+0.001747158j)    (-1.7668371+0.001747158j)   \n",
       "ac9e7a91.wav  (-1.7560852-0.00046687393j)  (-1.7560852-0.00046687393j)   \n",
       "ac9e7a91.wav   (-1.7456528+0.0003073491j)   (-1.7456528+0.0003073491j)   \n",
       "65ae847e.wav    (-2.0571358+0.001967726j)    (-2.0571358+0.001967726j)   \n",
       "\n",
       "                                    12897                        12898  \\\n",
       "ac9e7a91.wav   (-1.7656741+0.0027507467j)   (-1.7656741+0.0027507467j)   \n",
       "ac9e7a91.wav    (-1.7668371+0.001747158j)    (-1.7668371+0.001747158j)   \n",
       "ac9e7a91.wav  (-1.7560852-0.00046687393j)  (-1.7560852-0.00046687393j)   \n",
       "ac9e7a91.wav   (-1.7456528+0.0003073491j)   (-1.7456528+0.0003073491j)   \n",
       "65ae847e.wav    (-2.0571358+0.001967726j)    (-2.0571358+0.001967726j)   \n",
       "\n",
       "                                    12899         labels  \n",
       "ac9e7a91.wav   (-1.7656741+0.0027507467j)    Church_bell  \n",
       "ac9e7a91.wav    (-1.7668371+0.001747158j)    Church_bell  \n",
       "ac9e7a91.wav  (-1.7560852-0.00046687393j)    Church_bell  \n",
       "ac9e7a91.wav   (-1.7456528+0.0003073491j)    Church_bell  \n",
       "65ae847e.wav    (-2.0571358+0.001967726j)  Frying_(food)  \n",
       "\n",
       "[5 rows x 12901 columns]"
      ]
     },
     "execution_count": 6,
     "metadata": {},
     "output_type": "execute_result"
    }
   ],
   "source": [
    "df.head()"
   ]
  },
  {
   "cell_type": "code",
   "execution_count": 11,
   "metadata": {},
   "outputs": [],
   "source": [
    "# df = pd.concat(tp, ignore_index=True)"
   ]
  },
  {
   "cell_type": "code",
   "execution_count": 12,
   "metadata": {},
   "outputs": [],
   "source": [
    "# df.isnull().values.any()"
   ]
  },
  {
   "cell_type": "code",
   "execution_count": null,
   "metadata": {},
   "outputs": [],
   "source": [
    "# dump(df, 'data/train_df.joblib')"
   ]
  },
  {
   "cell_type": "code",
   "execution_count": 160,
   "metadata": {},
   "outputs": [
    {
     "data": {
      "text/plain": [
       "(19868, 12901)"
      ]
     },
     "execution_count": 160,
     "metadata": {},
     "output_type": "execute_result"
    }
   ],
   "source": [
    "df.shape"
   ]
  },
  {
   "cell_type": "code",
   "execution_count": 7,
   "metadata": {},
   "outputs": [],
   "source": [
    "def choose_target(df, target, fill_na):\n",
    "    \"\"\"\n",
    "    Returns y as ndarray, X as a dataframe\n",
    "    \"\"\"\n",
    "    df[target] = pd.get_dummies(df, columns=['labels'])['labels_{}'.format(target)]\n",
    "#     df['fname'] = df['Unnamed: 0']\n",
    "#     df.set_index('fname')\n",
    "    y = df[target].values\n",
    "    X = df.drop(columns=['labels', target])\n",
    "    if fill_na == '0':\n",
    "        X = X.fillna(0)\n",
    "    return X, y"
   ]
  },
  {
   "cell_type": "code",
   "execution_count": 8,
   "metadata": {
    "scrolled": true
   },
   "outputs": [],
   "source": [
    "X, y = choose_target(df=df, \n",
    "                     target='Purr',\n",
    "                     fill_na='0')"
   ]
  },
  {
   "cell_type": "code",
   "execution_count": 9,
   "metadata": {},
   "outputs": [
    {
     "data": {
      "text/html": [
       "<div>\n",
       "<style scoped>\n",
       "    .dataframe tbody tr th:only-of-type {\n",
       "        vertical-align: middle;\n",
       "    }\n",
       "\n",
       "    .dataframe tbody tr th {\n",
       "        vertical-align: top;\n",
       "    }\n",
       "\n",
       "    .dataframe thead th {\n",
       "        text-align: right;\n",
       "    }\n",
       "</style>\n",
       "<table border=\"1\" class=\"dataframe\">\n",
       "  <thead>\n",
       "    <tr style=\"text-align: right;\">\n",
       "      <th></th>\n",
       "      <th>0</th>\n",
       "      <th>1</th>\n",
       "      <th>2</th>\n",
       "      <th>3</th>\n",
       "      <th>4</th>\n",
       "      <th>5</th>\n",
       "      <th>6</th>\n",
       "      <th>7</th>\n",
       "      <th>8</th>\n",
       "      <th>9</th>\n",
       "      <th>...</th>\n",
       "      <th>12890</th>\n",
       "      <th>12891</th>\n",
       "      <th>12892</th>\n",
       "      <th>12893</th>\n",
       "      <th>12894</th>\n",
       "      <th>12895</th>\n",
       "      <th>12896</th>\n",
       "      <th>12897</th>\n",
       "      <th>12898</th>\n",
       "      <th>12899</th>\n",
       "    </tr>\n",
       "  </thead>\n",
       "  <tbody>\n",
       "    <tr>\n",
       "      <td>ac9e7a91.wav</td>\n",
       "      <td>1.034165</td>\n",
       "      <td>1.081409</td>\n",
       "      <td>1.219715</td>\n",
       "      <td>1.042868</td>\n",
       "      <td>1.166504</td>\n",
       "      <td>1.158957</td>\n",
       "      <td>1.249667</td>\n",
       "      <td>1.121618</td>\n",
       "      <td>1.119989</td>\n",
       "      <td>1.194605</td>\n",
       "      <td>...</td>\n",
       "      <td>1.765676</td>\n",
       "      <td>1.765676</td>\n",
       "      <td>1.765676</td>\n",
       "      <td>1.765676</td>\n",
       "      <td>1.765676</td>\n",
       "      <td>1.765676</td>\n",
       "      <td>1.765676</td>\n",
       "      <td>1.765676</td>\n",
       "      <td>1.765676</td>\n",
       "      <td>1.765676</td>\n",
       "    </tr>\n",
       "    <tr>\n",
       "      <td>ac9e7a91.wav</td>\n",
       "      <td>1.229840</td>\n",
       "      <td>0.849743</td>\n",
       "      <td>1.173018</td>\n",
       "      <td>0.977654</td>\n",
       "      <td>1.201367</td>\n",
       "      <td>1.038150</td>\n",
       "      <td>0.946473</td>\n",
       "      <td>1.080248</td>\n",
       "      <td>1.092282</td>\n",
       "      <td>1.039641</td>\n",
       "      <td>...</td>\n",
       "      <td>1.766838</td>\n",
       "      <td>1.766838</td>\n",
       "      <td>1.766838</td>\n",
       "      <td>1.766838</td>\n",
       "      <td>1.766838</td>\n",
       "      <td>1.766838</td>\n",
       "      <td>1.766838</td>\n",
       "      <td>1.766838</td>\n",
       "      <td>1.766838</td>\n",
       "      <td>1.766838</td>\n",
       "    </tr>\n",
       "    <tr>\n",
       "      <td>ac9e7a91.wav</td>\n",
       "      <td>1.148532</td>\n",
       "      <td>0.970157</td>\n",
       "      <td>0.807383</td>\n",
       "      <td>1.200776</td>\n",
       "      <td>1.266151</td>\n",
       "      <td>1.138947</td>\n",
       "      <td>0.889605</td>\n",
       "      <td>0.925469</td>\n",
       "      <td>1.076378</td>\n",
       "      <td>1.071888</td>\n",
       "      <td>...</td>\n",
       "      <td>1.756085</td>\n",
       "      <td>1.756085</td>\n",
       "      <td>1.756085</td>\n",
       "      <td>1.756085</td>\n",
       "      <td>1.756085</td>\n",
       "      <td>1.756085</td>\n",
       "      <td>1.756085</td>\n",
       "      <td>1.756085</td>\n",
       "      <td>1.756085</td>\n",
       "      <td>1.756085</td>\n",
       "    </tr>\n",
       "    <tr>\n",
       "      <td>ac9e7a91.wav</td>\n",
       "      <td>1.198112</td>\n",
       "      <td>0.658447</td>\n",
       "      <td>1.180605</td>\n",
       "      <td>1.040019</td>\n",
       "      <td>1.130454</td>\n",
       "      <td>0.947504</td>\n",
       "      <td>1.085755</td>\n",
       "      <td>1.079043</td>\n",
       "      <td>1.090813</td>\n",
       "      <td>1.066453</td>\n",
       "      <td>...</td>\n",
       "      <td>1.745653</td>\n",
       "      <td>1.745653</td>\n",
       "      <td>1.745653</td>\n",
       "      <td>1.745653</td>\n",
       "      <td>1.745653</td>\n",
       "      <td>1.745653</td>\n",
       "      <td>1.745653</td>\n",
       "      <td>1.745653</td>\n",
       "      <td>1.745653</td>\n",
       "      <td>1.745653</td>\n",
       "    </tr>\n",
       "    <tr>\n",
       "      <td>65ae847e.wav</td>\n",
       "      <td>0.286788</td>\n",
       "      <td>0.490074</td>\n",
       "      <td>0.807862</td>\n",
       "      <td>0.545526</td>\n",
       "      <td>0.525213</td>\n",
       "      <td>0.763628</td>\n",
       "      <td>0.648102</td>\n",
       "      <td>0.584791</td>\n",
       "      <td>0.821777</td>\n",
       "      <td>0.646159</td>\n",
       "      <td>...</td>\n",
       "      <td>2.057137</td>\n",
       "      <td>2.057137</td>\n",
       "      <td>2.057137</td>\n",
       "      <td>2.057137</td>\n",
       "      <td>2.057137</td>\n",
       "      <td>2.057137</td>\n",
       "      <td>2.057137</td>\n",
       "      <td>2.057137</td>\n",
       "      <td>2.057137</td>\n",
       "      <td>2.057137</td>\n",
       "    </tr>\n",
       "  </tbody>\n",
       "</table>\n",
       "<p>5 rows × 12900 columns</p>\n",
       "</div>"
      ],
      "text/plain": [
       "                     0         1         2         3         4         5  \\\n",
       "ac9e7a91.wav  1.034165  1.081409  1.219715  1.042868  1.166504  1.158957   \n",
       "ac9e7a91.wav  1.229840  0.849743  1.173018  0.977654  1.201367  1.038150   \n",
       "ac9e7a91.wav  1.148532  0.970157  0.807383  1.200776  1.266151  1.138947   \n",
       "ac9e7a91.wav  1.198112  0.658447  1.180605  1.040019  1.130454  0.947504   \n",
       "65ae847e.wav  0.286788  0.490074  0.807862  0.545526  0.525213  0.763628   \n",
       "\n",
       "                     6         7         8         9  ...     12890     12891  \\\n",
       "ac9e7a91.wav  1.249667  1.121618  1.119989  1.194605  ...  1.765676  1.765676   \n",
       "ac9e7a91.wav  0.946473  1.080248  1.092282  1.039641  ...  1.766838  1.766838   \n",
       "ac9e7a91.wav  0.889605  0.925469  1.076378  1.071888  ...  1.756085  1.756085   \n",
       "ac9e7a91.wav  1.085755  1.079043  1.090813  1.066453  ...  1.745653  1.745653   \n",
       "65ae847e.wav  0.648102  0.584791  0.821777  0.646159  ...  2.057137  2.057137   \n",
       "\n",
       "                 12892     12893     12894     12895     12896     12897  \\\n",
       "ac9e7a91.wav  1.765676  1.765676  1.765676  1.765676  1.765676  1.765676   \n",
       "ac9e7a91.wav  1.766838  1.766838  1.766838  1.766838  1.766838  1.766838   \n",
       "ac9e7a91.wav  1.756085  1.756085  1.756085  1.756085  1.756085  1.756085   \n",
       "ac9e7a91.wav  1.745653  1.745653  1.745653  1.745653  1.745653  1.745653   \n",
       "65ae847e.wav  2.057137  2.057137  2.057137  2.057137  2.057137  2.057137   \n",
       "\n",
       "                 12898     12899  \n",
       "ac9e7a91.wav  1.765676  1.765676  \n",
       "ac9e7a91.wav  1.766838  1.766838  \n",
       "ac9e7a91.wav  1.756085  1.756085  \n",
       "ac9e7a91.wav  1.745653  1.745653  \n",
       "65ae847e.wav  2.057137  2.057137  \n",
       "\n",
       "[5 rows x 12900 columns]"
      ]
     },
     "execution_count": 9,
     "metadata": {},
     "output_type": "execute_result"
    }
   ],
   "source": [
    "X = X.applymap(lambda x: abs(complex(x)))\n",
    "X.head()"
   ]
  },
  {
   "cell_type": "code",
   "execution_count": 10,
   "metadata": {},
   "outputs": [
    {
     "data": {
      "text/plain": [
       "(19868, 12900)"
      ]
     },
     "execution_count": 10,
     "metadata": {},
     "output_type": "execute_result"
    }
   ],
   "source": [
    "X.shape"
   ]
  },
  {
   "cell_type": "markdown",
   "metadata": {},
   "source": [
    "## Upsampling minority class"
   ]
  },
  {
   "cell_type": "code",
   "execution_count": 77,
   "metadata": {},
   "outputs": [],
   "source": [
    "target = 'Purr'\n",
    "df_majority = df[df['labels'] != target]\n",
    "df_minority = df[df['labels'] == target]"
   ]
  },
  {
   "cell_type": "code",
   "execution_count": 83,
   "metadata": {},
   "outputs": [],
   "source": [
    "majority_count = sum(df[df['labels'] != target]['labels'].value_counts())"
   ]
  },
  {
   "cell_type": "code",
   "execution_count": 123,
   "metadata": {},
   "outputs": [],
   "source": [
    "df_minority_upsampled = resample(df_minority, \n",
    "                                replace=True,\n",
    "                                n_samples=majority_count,\n",
    "                                random_state=13)"
   ]
  },
  {
   "cell_type": "code",
   "execution_count": 124,
   "metadata": {},
   "outputs": [],
   "source": [
    "df_upsampled = pd.concat([df_majority, df_minority_upsampled])"
   ]
  },
  {
   "cell_type": "code",
   "execution_count": 125,
   "metadata": {
    "scrolled": true
   },
   "outputs": [],
   "source": [
    "X, y = choose_target(df=df_upsampled,\n",
    "                    target=target,\n",
    "                    fill_na='0')"
   ]
  },
  {
   "cell_type": "code",
   "execution_count": 126,
   "metadata": {},
   "outputs": [],
   "source": [
    "X = X.applymap(lambda x: abs(complex(x)))"
   ]
  },
  {
   "cell_type": "code",
   "execution_count": 157,
   "metadata": {},
   "outputs": [],
   "source": [
    "X_train, X_test, y_train, y_test = train_test_split(X, y)"
   ]
  },
  {
   "cell_type": "code",
   "execution_count": 148,
   "metadata": {},
   "outputs": [
    {
     "data": {
      "text/plain": [
       "(460, 12900)"
      ]
     },
     "execution_count": 148,
     "metadata": {},
     "output_type": "execute_result"
    }
   ],
   "source": [
    "X_train.shape"
   ]
  },
  {
   "cell_type": "code",
   "execution_count": null,
   "metadata": {},
   "outputs": [],
   "source": [
    "scaler = StandardScaler()\n",
    "X_train = scaler.fit_transform(X_train)\n",
    "X_test = scaler.transform(X_test)"
   ]
  },
  {
   "cell_type": "markdown",
   "metadata": {},
   "source": [
    "## PCA"
   ]
  },
  {
   "cell_type": "code",
   "execution_count": null,
   "metadata": {},
   "outputs": [],
   "source": [
    "# X_train, X_test, y_train, y_test = train_test_split(X, y)"
   ]
  },
  {
   "cell_type": "code",
   "execution_count": 11,
   "metadata": {},
   "outputs": [],
   "source": [
    "pca = PCA(n_components=5000, random_state=77)\n",
    "X_train_pca = pca.fit_transform(X)"
   ]
  },
  {
   "cell_type": "code",
   "execution_count": 12,
   "metadata": {},
   "outputs": [
    {
     "data": {
      "text/plain": [
       "['data/X_train_pca.joblib']"
      ]
     },
     "execution_count": 12,
     "metadata": {},
     "output_type": "execute_result"
    }
   ],
   "source": [
    "dump(X_train_pca, 'data/X_train_pca.joblib')"
   ]
  },
  {
   "cell_type": "code",
   "execution_count": 13,
   "metadata": {},
   "outputs": [
    {
     "data": {
      "text/plain": [
       "['models/pca.joblib']"
      ]
     },
     "execution_count": 13,
     "metadata": {},
     "output_type": "execute_result"
    }
   ],
   "source": [
    "dump(pca, 'models/pca.joblib')"
   ]
  },
  {
   "cell_type": "code",
   "execution_count": 180,
   "metadata": {},
   "outputs": [],
   "source": [
    "# X_test_pca = pca.transform(X_test)"
   ]
  },
  {
   "cell_type": "code",
   "execution_count": 14,
   "metadata": {},
   "outputs": [],
   "source": [
    "#Scoring\n",
    "\n",
    "def score_fitted_model(model, X_test, y_test):\n",
    "    \n",
    "    y_preds = model.predict(X_test)\n",
    "    y_probs = model.predict_proba(X_test)\n",
    "    acc = accuracy_score(y_test, y_preds)\n",
    "    prec = precision_score(y_test, y_preds)\n",
    "    rec = recall_score(y_test, y_preds)\n",
    "    f1 = f1_score(y_test, y_preds)\n",
    "    conf = confusion_matrix(y_test, y_preds)\n",
    "    scores = {'model': model.__class__.__name__, 'accuracy': acc, 'precision': prec, \n",
    "              'recall': rec, 'f1': f1, 'conf_mat': conf}\n",
    "    return scores"
   ]
  },
  {
   "cell_type": "markdown",
   "metadata": {},
   "source": [
    "## Gradient Boosting"
   ]
  },
  {
   "cell_type": "code",
   "execution_count": 16,
   "metadata": {
    "scrolled": true
   },
   "outputs": [
    {
     "name": "stdout",
     "output_type": "stream",
     "text": [
      "      Iter       Train Loss   Remaining Time \n",
      "         1           0.1011           13.60m\n",
      "         2           0.0994           13.14m\n",
      "         3           0.0943           12.92m\n",
      "         4           0.0925           12.83m\n",
      "         5           0.0911           13.25m\n",
      "         6           0.0896           14.36m\n",
      "         7           0.0875           14.29m\n",
      "         8           0.0820           14.55m\n",
      "         9           0.0806           14.39m\n",
      "        10           0.0794           14.20m\n",
      "        20           0.0676           12.22m\n",
      "        30           0.0638           11.19m\n",
      "        40           0.0531            9.75m\n",
      "        50           0.0505            8.12m\n",
      "        60           0.0477            6.76m\n",
      "        70           0.0441            5.10m\n",
      "        80           0.0405            3.48m\n",
      "        90           0.0389            1.78m\n",
      "       100           0.0360            0.00s\n"
     ]
    },
    {
     "data": {
      "text/plain": [
       "GradientBoostingClassifier(ccp_alpha=0.0, criterion='friedman_mse', init=None,\n",
       "                           learning_rate=0.2, loss='deviance', max_depth=3,\n",
       "                           max_features=1000, max_leaf_nodes=None,\n",
       "                           min_impurity_decrease=0.0, min_impurity_split=None,\n",
       "                           min_samples_leaf=1, min_samples_split=2,\n",
       "                           min_weight_fraction_leaf=0.0, n_estimators=100,\n",
       "                           n_iter_no_change=None, presort='deprecated',\n",
       "                           random_state=8, subsample=1.0, tol=0.0001,\n",
       "                           validation_fraction=0.1, verbose=1,\n",
       "                           warm_start=False)"
      ]
     },
     "execution_count": 16,
     "metadata": {},
     "output_type": "execute_result"
    }
   ],
   "source": [
    "gbc = GradientBoostingClassifier(learning_rate=0.2,\n",
    "                                n_estimators=100,\n",
    "                                max_features=1000,\n",
    "                                 random_state=8,\n",
    "                                 verbose=1\n",
    "                                )\n",
    "gbc.fit(X_train_pca, y)"
   ]
  },
  {
   "cell_type": "code",
   "execution_count": null,
   "metadata": {},
   "outputs": [],
   "source": []
  },
  {
   "cell_type": "code",
   "execution_count": 17,
   "metadata": {
    "scrolled": true
   },
   "outputs": [
    {
     "ename": "NameError",
     "evalue": "name 'X_test_pca' is not defined",
     "output_type": "error",
     "traceback": [
      "\u001b[0;31m---------------------------------------------------------------------------\u001b[0m",
      "\u001b[0;31mNameError\u001b[0m                                 Traceback (most recent call last)",
      "\u001b[0;32m<ipython-input-17-d419eab2f45b>\u001b[0m in \u001b[0;36m<module>\u001b[0;34m\u001b[0m\n\u001b[0;32m----> 1\u001b[0;31m \u001b[0mscore_fitted_model\u001b[0m\u001b[0;34m(\u001b[0m\u001b[0mgbc\u001b[0m\u001b[0;34m,\u001b[0m \u001b[0mX_test_pca\u001b[0m\u001b[0;34m,\u001b[0m \u001b[0my_test\u001b[0m\u001b[0;34m)\u001b[0m\u001b[0;34m\u001b[0m\u001b[0;34m\u001b[0m\u001b[0m\n\u001b[0m",
      "\u001b[0;31mNameError\u001b[0m: name 'X_test_pca' is not defined"
     ]
    }
   ],
   "source": [
    "score_fitted_model(gbc, X_test_pca, y_test)"
   ]
  },
  {
   "cell_type": "code",
   "execution_count": 185,
   "metadata": {},
   "outputs": [],
   "source": []
  },
  {
   "cell_type": "code",
   "execution_count": null,
   "metadata": {},
   "outputs": [],
   "source": [
    "dump (gbc, 'models/gdb_clf.joblib')"
   ]
  },
  {
   "cell_type": "code",
   "execution_count": null,
   "metadata": {},
   "outputs": [],
   "source": []
  },
  {
   "cell_type": "markdown",
   "metadata": {},
   "source": [
    "## Random Forest"
   ]
  },
  {
   "cell_type": "code",
   "execution_count": 196,
   "metadata": {},
   "outputs": [],
   "source": [
    "rfc = RandomForestClassifier(n_estimators=500,\n",
    "                             max_depth=8,\n",
    "                             min_samples_leaf=8,\n",
    "                             min_samples_split=10,\n",
    "                             verbose=1,\n",
    "                             random_state=419\n",
    ")"
   ]
  },
  {
   "cell_type": "code",
   "execution_count": 197,
   "metadata": {},
   "outputs": [
    {
     "name": "stderr",
     "output_type": "stream",
     "text": [
      "[Parallel(n_jobs=1)]: Using backend SequentialBackend with 1 concurrent workers.\n",
      "[Parallel(n_jobs=1)]: Done 500 out of 500 | elapsed:  5.9min finished\n"
     ]
    },
    {
     "data": {
      "text/plain": [
       "RandomForestClassifier(bootstrap=True, ccp_alpha=0.0, class_weight=None,\n",
       "                       criterion='gini', max_depth=8, max_features='auto',\n",
       "                       max_leaf_nodes=None, max_samples=None,\n",
       "                       min_impurity_decrease=0.0, min_impurity_split=None,\n",
       "                       min_samples_leaf=8, min_samples_split=10,\n",
       "                       min_weight_fraction_leaf=0.0, n_estimators=500,\n",
       "                       n_jobs=None, oob_score=False, random_state=419,\n",
       "                       verbose=1, warm_start=False)"
      ]
     },
     "execution_count": 197,
     "metadata": {},
     "output_type": "execute_result"
    }
   ],
   "source": [
    "rfc.fit(X_train_pca, y_train)"
   ]
  },
  {
   "cell_type": "code",
   "execution_count": 198,
   "metadata": {
    "scrolled": true
   },
   "outputs": [
    {
     "name": "stderr",
     "output_type": "stream",
     "text": [
      "[Parallel(n_jobs=1)]: Using backend SequentialBackend with 1 concurrent workers.\n",
      "[Parallel(n_jobs=1)]: Done 500 out of 500 | elapsed:    0.4s finished\n",
      "[Parallel(n_jobs=1)]: Using backend SequentialBackend with 1 concurrent workers.\n",
      "[Parallel(n_jobs=1)]: Done 500 out of 500 | elapsed:    0.4s finished\n",
      "/Users/jared/anaconda3/lib/python3.7/site-packages/sklearn/metrics/_classification.py:1272: UndefinedMetricWarning: Precision is ill-defined and being set to 0.0 due to no predicted samples. Use `zero_division` parameter to control this behavior.\n",
      "  _warn_prf(average, modifier, msg_start, len(result))\n"
     ]
    },
    {
     "data": {
      "text/plain": [
       "{'model': 'RandomForestClassifier',\n",
       " 'accuracy': 0.987920273807127,\n",
       " 'precision': 0.0,\n",
       " 'recall': 0.0,\n",
       " 'f1': 0.0,\n",
       " 'conf_mat': array([[4907,    0],\n",
       "        [  60,    0]])}"
      ]
     },
     "execution_count": 198,
     "metadata": {},
     "output_type": "execute_result"
    }
   ],
   "source": [
    "score_fitted_model(rfc, X_test_pca, y_test)"
   ]
  },
  {
   "cell_type": "code",
   "execution_count": 200,
   "metadata": {},
   "outputs": [
    {
     "data": {
      "text/plain": [
       "['models/rf_clf.joblib']"
      ]
     },
     "execution_count": 200,
     "metadata": {},
     "output_type": "execute_result"
    }
   ],
   "source": [
    "dump(rfc, 'models/rf_clf.joblib')"
   ]
  },
  {
   "cell_type": "markdown",
   "metadata": {},
   "source": [
    "## Logistic Regression"
   ]
  },
  {
   "cell_type": "code",
   "execution_count": 201,
   "metadata": {},
   "outputs": [],
   "source": [
    "log = LogisticRegression()"
   ]
  },
  {
   "cell_type": "code",
   "execution_count": 202,
   "metadata": {},
   "outputs": [
    {
     "data": {
      "text/plain": [
       "LogisticRegression(C=1.0, class_weight=None, dual=False, fit_intercept=True,\n",
       "                   intercept_scaling=1, l1_ratio=None, max_iter=100,\n",
       "                   multi_class='auto', n_jobs=None, penalty='l2',\n",
       "                   random_state=None, solver='lbfgs', tol=0.0001, verbose=0,\n",
       "                   warm_start=False)"
      ]
     },
     "execution_count": 202,
     "metadata": {},
     "output_type": "execute_result"
    }
   ],
   "source": [
    "log.fit(X_train_pca, y_train)"
   ]
  },
  {
   "cell_type": "code",
   "execution_count": 203,
   "metadata": {},
   "outputs": [
    {
     "data": {
      "text/plain": [
       "{'model': 'LogisticRegression',\n",
       " 'accuracy': 0.012281054962754178,\n",
       " 'precision': 0.012082158679017317,\n",
       " 'recall': 1.0,\n",
       " 'f1': 0.023875845602865098,\n",
       " 'conf_mat': array([[   1, 4906],\n",
       "        [   0,   60]])}"
      ]
     },
     "execution_count": 203,
     "metadata": {},
     "output_type": "execute_result"
    }
   ],
   "source": [
    "score_fitted_model(log, X_test_pca, y_test)"
   ]
  },
  {
   "cell_type": "code",
   "execution_count": 204,
   "metadata": {},
   "outputs": [
    {
     "data": {
      "text/plain": [
       "['models/log_reg.joblib']"
      ]
     },
     "execution_count": 204,
     "metadata": {},
     "output_type": "execute_result"
    }
   ],
   "source": [
    "dump(log, 'models/log_reg.joblib')"
   ]
  },
  {
   "cell_type": "markdown",
   "metadata": {},
   "source": [
    "## Downsampling Majority Class\n",
    "\n",
    "...tbc"
   ]
  },
  {
   "cell_type": "markdown",
   "metadata": {},
   "source": [
    "## Testing on a (balanced) subset of test data "
   ]
  },
  {
   "cell_type": "code",
   "execution_count": 29,
   "metadata": {},
   "outputs": [],
   "source": [
    "test_df = pd.read_csv('data/test_windows_mel.zip', index_col=0)"
   ]
  },
  {
   "cell_type": "code",
   "execution_count": 19,
   "metadata": {},
   "outputs": [
    {
     "data": {
      "text/plain": [
       "(20, 12901)"
      ]
     },
     "execution_count": 19,
     "metadata": {},
     "output_type": "execute_result"
    }
   ],
   "source": [
    "test_df.shape"
   ]
  },
  {
   "cell_type": "code",
   "execution_count": 30,
   "metadata": {},
   "outputs": [],
   "source": [
    "X_test, y_test = choose_target(df=test_df, \n",
    "                     target='Purr',\n",
    "                     fill_na='0')"
   ]
  },
  {
   "cell_type": "code",
   "execution_count": 31,
   "metadata": {},
   "outputs": [
    {
     "data": {
      "text/html": [
       "<div>\n",
       "<style scoped>\n",
       "    .dataframe tbody tr th:only-of-type {\n",
       "        vertical-align: middle;\n",
       "    }\n",
       "\n",
       "    .dataframe tbody tr th {\n",
       "        vertical-align: top;\n",
       "    }\n",
       "\n",
       "    .dataframe thead th {\n",
       "        text-align: right;\n",
       "    }\n",
       "</style>\n",
       "<table border=\"1\" class=\"dataframe\">\n",
       "  <thead>\n",
       "    <tr style=\"text-align: right;\">\n",
       "      <th></th>\n",
       "      <th>0</th>\n",
       "      <th>1</th>\n",
       "      <th>2</th>\n",
       "      <th>3</th>\n",
       "      <th>4</th>\n",
       "      <th>5</th>\n",
       "      <th>6</th>\n",
       "      <th>7</th>\n",
       "      <th>8</th>\n",
       "      <th>9</th>\n",
       "      <th>...</th>\n",
       "      <th>12890</th>\n",
       "      <th>12891</th>\n",
       "      <th>12892</th>\n",
       "      <th>12893</th>\n",
       "      <th>12894</th>\n",
       "      <th>12895</th>\n",
       "      <th>12896</th>\n",
       "      <th>12897</th>\n",
       "      <th>12898</th>\n",
       "      <th>12899</th>\n",
       "    </tr>\n",
       "  </thead>\n",
       "  <tbody>\n",
       "    <tr>\n",
       "      <td>340da762.wav</td>\n",
       "      <td>1.851779</td>\n",
       "      <td>1.926661</td>\n",
       "      <td>1.790155</td>\n",
       "      <td>1.772461</td>\n",
       "      <td>1.830766</td>\n",
       "      <td>1.763030</td>\n",
       "      <td>1.907218</td>\n",
       "      <td>1.906484</td>\n",
       "      <td>1.847534</td>\n",
       "      <td>1.839827</td>\n",
       "      <td>...</td>\n",
       "      <td>1.564205</td>\n",
       "      <td>1.564205</td>\n",
       "      <td>1.564205</td>\n",
       "      <td>1.564205</td>\n",
       "      <td>1.564205</td>\n",
       "      <td>1.564205</td>\n",
       "      <td>1.564205</td>\n",
       "      <td>1.564205</td>\n",
       "      <td>1.564205</td>\n",
       "      <td>1.564205</td>\n",
       "    </tr>\n",
       "    <tr>\n",
       "      <td>340da762.wav</td>\n",
       "      <td>1.326589</td>\n",
       "      <td>1.031765</td>\n",
       "      <td>0.801493</td>\n",
       "      <td>1.126498</td>\n",
       "      <td>1.213463</td>\n",
       "      <td>1.165523</td>\n",
       "      <td>0.780377</td>\n",
       "      <td>1.052408</td>\n",
       "      <td>1.013382</td>\n",
       "      <td>1.098081</td>\n",
       "      <td>...</td>\n",
       "      <td>1.570098</td>\n",
       "      <td>1.570098</td>\n",
       "      <td>1.570098</td>\n",
       "      <td>1.570098</td>\n",
       "      <td>1.570098</td>\n",
       "      <td>1.570098</td>\n",
       "      <td>1.570098</td>\n",
       "      <td>1.570098</td>\n",
       "      <td>1.570098</td>\n",
       "      <td>1.570098</td>\n",
       "    </tr>\n",
       "    <tr>\n",
       "      <td>340da762.wav</td>\n",
       "      <td>0.818254</td>\n",
       "      <td>0.852426</td>\n",
       "      <td>1.177918</td>\n",
       "      <td>1.010415</td>\n",
       "      <td>1.089310</td>\n",
       "      <td>1.367235</td>\n",
       "      <td>0.980664</td>\n",
       "      <td>1.284388</td>\n",
       "      <td>1.046358</td>\n",
       "      <td>1.332898</td>\n",
       "      <td>...</td>\n",
       "      <td>1.604056</td>\n",
       "      <td>1.604056</td>\n",
       "      <td>1.604056</td>\n",
       "      <td>1.604056</td>\n",
       "      <td>1.604056</td>\n",
       "      <td>1.604056</td>\n",
       "      <td>1.604056</td>\n",
       "      <td>1.604056</td>\n",
       "      <td>1.604056</td>\n",
       "      <td>1.604056</td>\n",
       "    </tr>\n",
       "    <tr>\n",
       "      <td>340da762.wav</td>\n",
       "      <td>1.310807</td>\n",
       "      <td>1.412962</td>\n",
       "      <td>1.514875</td>\n",
       "      <td>1.423629</td>\n",
       "      <td>1.046401</td>\n",
       "      <td>1.455149</td>\n",
       "      <td>1.412662</td>\n",
       "      <td>1.086440</td>\n",
       "      <td>1.268236</td>\n",
       "      <td>1.104407</td>\n",
       "      <td>...</td>\n",
       "      <td>1.635082</td>\n",
       "      <td>1.635082</td>\n",
       "      <td>1.635082</td>\n",
       "      <td>1.635082</td>\n",
       "      <td>1.635082</td>\n",
       "      <td>1.635082</td>\n",
       "      <td>1.635082</td>\n",
       "      <td>1.635082</td>\n",
       "      <td>1.635082</td>\n",
       "      <td>1.635082</td>\n",
       "    </tr>\n",
       "    <tr>\n",
       "      <td>2d21dbf4.wav</td>\n",
       "      <td>1.406415</td>\n",
       "      <td>1.221941</td>\n",
       "      <td>1.312833</td>\n",
       "      <td>1.547531</td>\n",
       "      <td>1.440355</td>\n",
       "      <td>1.460948</td>\n",
       "      <td>1.345249</td>\n",
       "      <td>1.528509</td>\n",
       "      <td>1.510984</td>\n",
       "      <td>1.565138</td>\n",
       "      <td>...</td>\n",
       "      <td>1.599996</td>\n",
       "      <td>1.599996</td>\n",
       "      <td>1.599996</td>\n",
       "      <td>1.599996</td>\n",
       "      <td>1.599996</td>\n",
       "      <td>1.599996</td>\n",
       "      <td>1.599996</td>\n",
       "      <td>1.599996</td>\n",
       "      <td>1.599996</td>\n",
       "      <td>1.599996</td>\n",
       "    </tr>\n",
       "  </tbody>\n",
       "</table>\n",
       "<p>5 rows × 12900 columns</p>\n",
       "</div>"
      ],
      "text/plain": [
       "                     0         1         2         3         4         5  \\\n",
       "340da762.wav  1.851779  1.926661  1.790155  1.772461  1.830766  1.763030   \n",
       "340da762.wav  1.326589  1.031765  0.801493  1.126498  1.213463  1.165523   \n",
       "340da762.wav  0.818254  0.852426  1.177918  1.010415  1.089310  1.367235   \n",
       "340da762.wav  1.310807  1.412962  1.514875  1.423629  1.046401  1.455149   \n",
       "2d21dbf4.wav  1.406415  1.221941  1.312833  1.547531  1.440355  1.460948   \n",
       "\n",
       "                     6         7         8         9  ...     12890     12891  \\\n",
       "340da762.wav  1.907218  1.906484  1.847534  1.839827  ...  1.564205  1.564205   \n",
       "340da762.wav  0.780377  1.052408  1.013382  1.098081  ...  1.570098  1.570098   \n",
       "340da762.wav  0.980664  1.284388  1.046358  1.332898  ...  1.604056  1.604056   \n",
       "340da762.wav  1.412662  1.086440  1.268236  1.104407  ...  1.635082  1.635082   \n",
       "2d21dbf4.wav  1.345249  1.528509  1.510984  1.565138  ...  1.599996  1.599996   \n",
       "\n",
       "                 12892     12893     12894     12895     12896     12897  \\\n",
       "340da762.wav  1.564205  1.564205  1.564205  1.564205  1.564205  1.564205   \n",
       "340da762.wav  1.570098  1.570098  1.570098  1.570098  1.570098  1.570098   \n",
       "340da762.wav  1.604056  1.604056  1.604056  1.604056  1.604056  1.604056   \n",
       "340da762.wav  1.635082  1.635082  1.635082  1.635082  1.635082  1.635082   \n",
       "2d21dbf4.wav  1.599996  1.599996  1.599996  1.599996  1.599996  1.599996   \n",
       "\n",
       "                 12898     12899  \n",
       "340da762.wav  1.564205  1.564205  \n",
       "340da762.wav  1.570098  1.570098  \n",
       "340da762.wav  1.604056  1.604056  \n",
       "340da762.wav  1.635082  1.635082  \n",
       "2d21dbf4.wav  1.599996  1.599996  \n",
       "\n",
       "[5 rows x 12900 columns]"
      ]
     },
     "execution_count": 31,
     "metadata": {},
     "output_type": "execute_result"
    }
   ],
   "source": [
    "X_test = X_test.applymap(lambda x: abs(complex(x)))\n",
    "X_test.head()"
   ]
  },
  {
   "cell_type": "code",
   "execution_count": 10,
   "metadata": {
    "collapsed": true
   },
   "outputs": [
    {
     "ename": "FileNotFoundError",
     "evalue": "[Errno 2] No such file or directory: 'models/pca.joblib'",
     "output_type": "error",
     "traceback": [
      "\u001b[0;31m---------------------------------------------------------------------------\u001b[0m",
      "\u001b[0;31mFileNotFoundError\u001b[0m                         Traceback (most recent call last)",
      "\u001b[0;32m<ipython-input-10-bf6906d6d614>\u001b[0m in \u001b[0;36m<module>\u001b[0;34m\u001b[0m\n\u001b[0;32m----> 1\u001b[0;31m \u001b[0mpca\u001b[0m \u001b[0;34m=\u001b[0m \u001b[0mload\u001b[0m\u001b[0;34m(\u001b[0m\u001b[0;34m'models/pca.joblib'\u001b[0m\u001b[0;34m)\u001b[0m\u001b[0;34m\u001b[0m\u001b[0;34m\u001b[0m\u001b[0m\n\u001b[0m",
      "\u001b[0;32m~/anaconda3/lib/python3.7/site-packages/joblib/numpy_pickle.py\u001b[0m in \u001b[0;36mload\u001b[0;34m(filename, mmap_mode)\u001b[0m\n\u001b[1;32m    588\u001b[0m             \u001b[0mobj\u001b[0m \u001b[0;34m=\u001b[0m \u001b[0m_unpickle\u001b[0m\u001b[0;34m(\u001b[0m\u001b[0mfobj\u001b[0m\u001b[0;34m)\u001b[0m\u001b[0;34m\u001b[0m\u001b[0;34m\u001b[0m\u001b[0m\n\u001b[1;32m    589\u001b[0m     \u001b[0;32melse\u001b[0m\u001b[0;34m:\u001b[0m\u001b[0;34m\u001b[0m\u001b[0;34m\u001b[0m\u001b[0m\n\u001b[0;32m--> 590\u001b[0;31m         \u001b[0;32mwith\u001b[0m \u001b[0mopen\u001b[0m\u001b[0;34m(\u001b[0m\u001b[0mfilename\u001b[0m\u001b[0;34m,\u001b[0m \u001b[0;34m'rb'\u001b[0m\u001b[0;34m)\u001b[0m \u001b[0;32mas\u001b[0m \u001b[0mf\u001b[0m\u001b[0;34m:\u001b[0m\u001b[0;34m\u001b[0m\u001b[0;34m\u001b[0m\u001b[0m\n\u001b[0m\u001b[1;32m    591\u001b[0m             \u001b[0;32mwith\u001b[0m \u001b[0m_read_fileobject\u001b[0m\u001b[0;34m(\u001b[0m\u001b[0mf\u001b[0m\u001b[0;34m,\u001b[0m \u001b[0mfilename\u001b[0m\u001b[0;34m,\u001b[0m \u001b[0mmmap_mode\u001b[0m\u001b[0;34m)\u001b[0m \u001b[0;32mas\u001b[0m \u001b[0mfobj\u001b[0m\u001b[0;34m:\u001b[0m\u001b[0;34m\u001b[0m\u001b[0;34m\u001b[0m\u001b[0m\n\u001b[1;32m    592\u001b[0m                 \u001b[0;32mif\u001b[0m \u001b[0misinstance\u001b[0m\u001b[0;34m(\u001b[0m\u001b[0mfobj\u001b[0m\u001b[0;34m,\u001b[0m \u001b[0m_basestring\u001b[0m\u001b[0;34m)\u001b[0m\u001b[0;34m:\u001b[0m\u001b[0;34m\u001b[0m\u001b[0;34m\u001b[0m\u001b[0m\n",
      "\u001b[0;31mFileNotFoundError\u001b[0m: [Errno 2] No such file or directory: 'models/pca.joblib'"
     ]
    }
   ],
   "source": [
    "pca = load('models/pca.joblib')"
   ]
  },
  {
   "cell_type": "code",
   "execution_count": 32,
   "metadata": {},
   "outputs": [],
   "source": [
    "X_test_pca = pca.transform(X_test)"
   ]
  },
  {
   "cell_type": "code",
   "execution_count": 27,
   "metadata": {},
   "outputs": [],
   "source": [
    "gbc = load('models/gdb_clf.joblib')"
   ]
  },
  {
   "cell_type": "code",
   "execution_count": 33,
   "metadata": {},
   "outputs": [
    {
     "data": {
      "text/plain": [
       "{'model': 'GradientBoostingClassifier',\n",
       " 'accuracy': 0.5173267326732673,\n",
       " 'precision': 0.52,\n",
       " 'recall': 0.0663265306122449,\n",
       " 'f1': 0.11764705882352942,\n",
       " 'conf_mat': array([[196,  12],\n",
       "        [183,  13]])}"
      ]
     },
     "execution_count": 33,
     "metadata": {},
     "output_type": "execute_result"
    }
   ],
   "source": [
    "score_fitted_model(model=gbc,\n",
    "                   X_test=X_test_pca,\n",
    "                   y_test=y_test\n",
    "                    )"
   ]
  },
  {
   "cell_type": "code",
   "execution_count": null,
   "metadata": {},
   "outputs": [],
   "source": []
  }
 ],
 "metadata": {
  "kernelspec": {
   "display_name": "Python 3",
   "language": "python",
   "name": "python3"
  },
  "language_info": {
   "codemirror_mode": {
    "name": "ipython",
    "version": 3
   },
   "file_extension": ".py",
   "mimetype": "text/x-python",
   "name": "python",
   "nbconvert_exporter": "python",
   "pygments_lexer": "ipython3",
   "version": "3.7.3"
  }
 },
 "nbformat": 4,
 "nbformat_minor": 2
}
